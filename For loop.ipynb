{
 "cells": [
  {
   "cell_type": "code",
   "execution_count": 2,
   "metadata": {},
   "outputs": [
    {
     "name": "stdout",
     "output_type": "stream",
     "text": [
      "Student 0\n",
      "Student 1\n",
      "Student 2\n",
      "Student 3\n",
      "Student 4\n",
      "Student 5\n",
      "Student 6\n",
      "Student 7\n",
      "Student 8\n",
      "Student 9\n"
     ]
    }
   ],
   "source": [
    "for a in range (10):\n",
    "    print(\"Student\",a)"
   ]
  },
  {
   "cell_type": "code",
   "execution_count": 4,
   "metadata": {},
   "outputs": [
    {
     "name": "stdout",
     "output_type": "stream",
     "text": [
      "1 Hello\n",
      "2 Hello\n",
      "3 Hello\n",
      "4 Hello\n",
      "5 Hello\n",
      "6 Hello\n",
      "7 Hello\n",
      "8 Hello\n",
      "9 Hello\n"
     ]
    }
   ],
   "source": [
    "for b in range (1,10):\n",
    "    print(b,\"Hello\")"
   ]
  },
  {
   "cell_type": "code",
   "execution_count": 10,
   "metadata": {},
   "outputs": [
    {
     "name": "stdout",
     "output_type": "stream",
     "text": [
      "0 Increasing Hieght 10\n",
      "25 Increasing Hieght 10\n",
      "50 Increasing Hieght 10\n",
      "75 Increasing Hieght 10\n",
      "100 Increasing Hieght 10\n"
     ]
    }
   ],
   "source": [
    "for y in range (0,125,25):\n",
    "    print(y,\"Increasing Hieght\",b+1)"
   ]
  },
  {
   "cell_type": "code",
   "execution_count": 11,
   "metadata": {},
   "outputs": [
    {
     "ename": "SyntaxError",
     "evalue": "invalid syntax (<ipython-input-11-19a076ed9664>, line 1)",
     "output_type": "error",
     "traceback": [
      "\u001b[1;36m  File \u001b[1;32m\"<ipython-input-11-19a076ed9664>\"\u001b[1;36m, line \u001b[1;32m1\u001b[0m\n\u001b[1;33m    for x in range(10)\u001b[0m\n\u001b[1;37m                      ^\u001b[0m\n\u001b[1;31mSyntaxError\u001b[0m\u001b[1;31m:\u001b[0m invalid syntax\n"
     ]
    }
   ],
   "source": [
    "for x in range(10)\n",
    "print(\"It will be Error\")"
   ]
  },
  {
   "cell_type": "code",
   "execution_count": 2,
   "metadata": {},
   "outputs": [
    {
     "ename": "IndentationError",
     "evalue": "expected an indented block (<ipython-input-2-a3ad7bd83746>, line 3)",
     "output_type": "error",
     "traceback": [
      "\u001b[1;36m  File \u001b[1;32m\"<ipython-input-2-a3ad7bd83746>\"\u001b[1;36m, line \u001b[1;32m3\u001b[0m\n\u001b[1;33m    print(\"It will be Error\")\u001b[0m\n\u001b[1;37m        ^\u001b[0m\n\u001b[1;31mIndentationError\u001b[0m\u001b[1;31m:\u001b[0m expected an indented block\n"
     ]
    }
   ],
   "source": [
    "for x in range(10):\n",
    "    \n",
    "print(\"It will be Error\")"
   ]
  },
  {
   "cell_type": "code",
   "execution_count": 12,
   "metadata": {},
   "outputs": [
    {
     "name": "stdout",
     "output_type": "stream",
     "text": [
      "5 * 1 = 5\n",
      "5 * 2 = 10\n",
      "5 * 3 = 15\n",
      "5 * 4 = 20\n",
      "5 * 5 = 25\n",
      "5 * 6 = 30\n",
      "5 * 7 = 35\n",
      "5 * 8 = 40\n",
      "5 * 9 = 45\n",
      "5 * 10 = 50\n"
     ]
    }
   ],
   "source": [
    "for a in range (1,11):\n",
    "    print(5,\"*\",a,\"=\",5*a)"
   ]
  },
  {
   "cell_type": "code",
   "execution_count": 14,
   "metadata": {},
   "outputs": [
    {
     "name": "stdout",
     "output_type": "stream",
     "text": [
      "c\n",
      "o\n",
      "u\n",
      "n\n",
      "t\n",
      "r\n",
      "y\n"
     ]
    }
   ],
   "source": [
    "for a in \"country\":\n",
    "    print(a)"
   ]
  },
  {
   "cell_type": "code",
   "execution_count": 18,
   "metadata": {},
   "outputs": [
    {
     "name": "stdout",
     "output_type": "stream",
     "text": [
      "1\n",
      "2\n",
      "5\n",
      "6\n",
      "5\n",
      "4\n",
      "3\n",
      "3.142857142857143\n",
      "7.714285714285714\n"
     ]
    }
   ],
   "source": [
    "l1=[1,2,5,6,5,4,3,22/7,54/7]\n",
    "for a in l1:\n",
    "    print(a)"
   ]
  },
  {
   "cell_type": "code",
   "execution_count": 22,
   "metadata": {},
   "outputs": [
    {
     "name": "stdout",
     "output_type": "stream",
     "text": [
      "Karachi\n",
      "Quetta\n",
      "Piplan\n",
      "Lahore\n",
      "Islamabad\n"
     ]
    }
   ],
   "source": [
    "for a in (\"Karachi\",\"Quetta\",\"Piplan\",\"Lahore\",\"Islamabad\"):\n",
    "          print(a)"
   ]
  },
  {
   "cell_type": "code",
   "execution_count": 1,
   "metadata": {},
   "outputs": [
    {
     "name": "stdout",
     "output_type": "stream",
     "text": [
      "*\n",
      "**\n",
      "***\n",
      "****\n",
      "*****\n"
     ]
    }
   ],
   "source": [
    "for a in range(1,6):\n",
    "    for b in range(a):\n",
    "        print(\"*\",end=\"\")\n",
    "    print(end=\"\\n\")      "
   ]
  },
  {
   "cell_type": "code",
   "execution_count": 39,
   "metadata": {},
   "outputs": [
    {
     "name": "stdout",
     "output_type": "stream",
     "text": [
      "*\n",
      "**\n",
      "***\n",
      "****\n",
      "*****\n"
     ]
    }
   ],
   "source": [
    "for a in range(1,6):\n",
    "    for b in range(a):\n",
    "        print(\"*\",end=\"\")\n",
    "    print(end=\"\\n\")"
   ]
  },
  {
   "cell_type": "code",
   "execution_count": 5,
   "metadata": {},
   "outputs": [],
   "source": [
    "for a in range(10,-1):\n",
    "    print(a,\"Hello\")"
   ]
  },
  {
   "cell_type": "code",
   "execution_count": 6,
   "metadata": {},
   "outputs": [
    {
     "name": "stdout",
     "output_type": "stream",
     "text": [
      "10 Hello\n",
      "9 Hello\n",
      "8 Hello\n",
      "7 Hello\n",
      "6 Hello\n",
      "5 Hello\n",
      "4 Hello\n",
      "3 Hello\n",
      "2 Hello\n",
      "1 Hello\n",
      "0 Hello\n",
      "-1 Hello\n",
      "-2 Hello\n",
      "-3 Hello\n"
     ]
    }
   ],
   "source": [
    "for a in range(10,-4,-1):\n",
    "    print(a,\"Hello\")"
   ]
  },
  {
   "cell_type": "code",
   "execution_count": 3,
   "metadata": {},
   "outputs": [
    {
     "name": "stdout",
     "output_type": "stream",
     "text": [
      "                                        +\n",
      "                                       +++\n",
      "                                      +++++\n",
      "                                     +++++++\n",
      "                                    +++++++++\n",
      "                                   +++++++++++\n",
      "                                  +++++++++++++\n",
      "                                 +++++++++++++++\n",
      "                                +++++++++++++++++\n",
      "                               +++++++++++++++++++\n",
      "                              +++++++++++++++++++++\n",
      "                             +++++++++++++++++++++++\n",
      "                            +++++++++++++++++++++++++\n",
      "                           +++++++++++++++++++++++++++\n",
      "                          +++++++++++++++++++++++++++++\n",
      "                         +++++++++++++++++++++++++++++++\n",
      "                        +++++++++++++++++++++++++++++++++\n",
      "                       +++++++++++++++++++++++++++++++++++\n",
      "                      +++++++++++++++++++++++++++++++++++++\n",
      "                     +++++++++++++++++++++++++++++++++++++++\n",
      "                    +++++++++++++++++++++++++++++++++++++++++\n",
      "                   +++++++++++++++++++++++++++++++++++++++++++\n",
      "                  +++++++++++++++++++++++++++++++++++++++++++++\n",
      "                 +++++++++++++++++++++++++++++++++++++++++++++++\n",
      "                +++++++++++++++++++++++++++++++++++++++++++++++++\n",
      "               +++++++++++++++++++++++++++++++++++++++++++++++++++\n",
      "              +++++++++++++++++++++++++++++++++++++++++++++++++++++\n",
      "             +++++++++++++++++++++++++++++++++++++++++++++++++++++++\n",
      "            +++++++++++++++++++++++++++++++++++++++++++++++++++++++++\n",
      "           +++++++++++++++++++++++++++++++++++++++++++++++++++++++++++\n",
      "          +++++++++++++++++++++++++++++++++++++++++++++++++++++++++++++\n",
      "         +++++++++++++++++++++++++++++++++++++++++++++++++++++++++++++++\n",
      "        +++++++++++++++++++++++++++++++++++++++++++++++++++++++++++++++++\n",
      "       +++++++++++++++++++++++++++++++++++++++++++++++++++++++++++++++++++\n",
      "      +++++++++++++++++++++++++++++++++++++++++++++++++++++++++++++++++++++\n",
      "     +++++++++++++++++++++++++++++++++++++++++++++++++++++++++++++++++++++++\n",
      "    +++++++++++++++++++++++++++++++++++++++++++++++++++++++++++++++++++++++++\n",
      "   +++++++++++++++++++++++++++++++++++++++++++++++++++++++++++++++++++++++++++\n",
      "  +++++++++++++++++++++++++++++++++++++++++++++++++++++++++++++++++++++++++++++\n",
      " +++++++++++++++++++++++++++++++++++++++++++++++++++++++++++++++++++++++++++++++\n",
      "  +++++++++++++++++++++++++++++++++++++++++++++++++++++++++++++++++++++++++++++\n",
      "   +++++++++++++++++++++++++++++++++++++++++++++++++++++++++++++++++++++++++++\n",
      "    +++++++++++++++++++++++++++++++++++++++++++++++++++++++++++++++++++++++++\n",
      "     +++++++++++++++++++++++++++++++++++++++++++++++++++++++++++++++++++++++\n",
      "      +++++++++++++++++++++++++++++++++++++++++++++++++++++++++++++++++++++\n",
      "       +++++++++++++++++++++++++++++++++++++++++++++++++++++++++++++++++++\n",
      "        +++++++++++++++++++++++++++++++++++++++++++++++++++++++++++++++++\n",
      "         +++++++++++++++++++++++++++++++++++++++++++++++++++++++++++++++\n",
      "          +++++++++++++++++++++++++++++++++++++++++++++++++++++++++++++\n",
      "           +++++++++++++++++++++++++++++++++++++++++++++++++++++++++++\n",
      "            +++++++++++++++++++++++++++++++++++++++++++++++++++++++++\n",
      "             +++++++++++++++++++++++++++++++++++++++++++++++++++++++\n",
      "              +++++++++++++++++++++++++++++++++++++++++++++++++++++\n",
      "               +++++++++++++++++++++++++++++++++++++++++++++++++++\n",
      "                +++++++++++++++++++++++++++++++++++++++++++++++++\n",
      "                 +++++++++++++++++++++++++++++++++++++++++++++++\n",
      "                  +++++++++++++++++++++++++++++++++++++++++++++\n",
      "                   +++++++++++++++++++++++++++++++++++++++++++\n",
      "                    +++++++++++++++++++++++++++++++++++++++++\n",
      "                     +++++++++++++++++++++++++++++++++++++++\n",
      "                      +++++++++++++++++++++++++++++++++++++\n",
      "                       +++++++++++++++++++++++++++++++++++\n",
      "                        +++++++++++++++++++++++++++++++++\n",
      "                         +++++++++++++++++++++++++++++++\n",
      "                          +++++++++++++++++++++++++++++\n",
      "                           +++++++++++++++++++++++++++\n",
      "                            +++++++++++++++++++++++++\n",
      "                             +++++++++++++++++++++++\n",
      "                              +++++++++++++++++++++\n",
      "                               +++++++++++++++++++\n",
      "                                +++++++++++++++++\n",
      "                                 +++++++++++++++\n",
      "                                  +++++++++++++\n",
      "                                   +++++++++++\n",
      "                                    +++++++++\n",
      "                                     +++++++\n",
      "                                      +++++\n",
      "                                       +++\n",
      "                                        +\n"
     ]
    }
   ],
   "source": [
    "n=80\n",
    "a=1\n",
    "b=n/2\n",
    "for aa in range(1,n):\n",
    "    if (aa<=n/2):\n",
    "        for cc in range(1,int(b)+1):\n",
    "            print(\" \",end=\"\")\n",
    "        for bb in range (1,a+1):\n",
    "            print(\"+\",end=\"\")\n",
    "        for bb in range (1,a):\n",
    "            print(\"+\",end=\"\")\n",
    "        print()\n",
    "        a+=1\n",
    "        b-=1\n",
    "    else:\n",
    "        a-=1\n",
    "        b+=1\n",
    "        for cc in range(1,int(b)+1):\n",
    "            print(\" \",end=\"\")\n",
    "        for bb in range (1,a):\n",
    "            print(\"+\",end=\"\")\n",
    "        for bb in range (1,a-1):\n",
    "            print(\"+\",end=\"\")\n",
    "        print()\n",
    "    if aa==n/2:\n",
    "        b+=1"
   ]
  },
  {
   "cell_type": "code",
   "execution_count": 5,
   "metadata": {},
   "outputs": [
    {
     "name": "stdout",
     "output_type": "stream",
     "text": [
      "hello\n"
     ]
    }
   ],
   "source": [
    "print(\"hello\")"
   ]
  },
  {
   "cell_type": "code",
   "execution_count": null,
   "metadata": {},
   "outputs": [],
   "source": []
  }
 ],
 "metadata": {
  "kernelspec": {
   "display_name": "Python 3",
   "language": "python",
   "name": "python3"
  },
  "language_info": {
   "codemirror_mode": {
    "name": "ipython",
    "version": 3
   },
   "file_extension": ".py",
   "mimetype": "text/x-python",
   "name": "python",
   "nbconvert_exporter": "python",
   "pygments_lexer": "ipython3",
   "version": "3.7.3"
  }
 },
 "nbformat": 4,
 "nbformat_minor": 2
}
