{
 "cells": [
  {
   "cell_type": "code",
   "execution_count": 1,
   "metadata": {},
   "outputs": [
    {
     "name": "stdout",
     "output_type": "stream",
     "text": [
      "Enter Todays date in format dd/mm/yy i.e 12/1/2020 : 20/2/2020\n",
      "Enter Your Date of Birth in format dd/mm/yy i.e 20/2/2001 : 20/2/2001\n",
      "Happy Birthday! You are 19 years old today.\n"
     ]
    }
   ],
   "source": [
    "def sep(p):\n",
    "    li=[]\n",
    "    a=\"\"\n",
    "    for u in p:\n",
    "        if u!=\"/\":\n",
    "            a+=u\n",
    "        else:\n",
    "            li.append(a)\n",
    "            a=\"\"\n",
    "    li.append(a)\n",
    "    td2=int(li[0])\n",
    "    tm2=int(li[1])\n",
    "    ty2=int(li[2])\n",
    "    lio=td2,tm2,ty2\n",
    "    return lio\n",
    "months=[31,28,31,30,31,30,31,31,30,31,30,31]\n",
    "Todaysdate=input(\"Enter Todays date in format dd/mm/yy i.e 12/1/2020 : \")\n",
    "we=sep(Todaysdate)\n",
    "Birthdate=input(\"Enter Your Date of Birth in format dd/mm/yy i.e 20/2/2001 : \")\n",
    "ew=sep(Birthdate)\n",
    "ay=we[2]-ew[2]-1\n",
    "am=we[1]-1+12-ew[1]\n",
    "ad=we[0]+months[ew[1]-1]-ew[0]\n",
    "if ad>=months[ew[1]-1]:\n",
    "    am+=1\n",
    "    ad-=months[ew[1]-1]\n",
    "if am>=12:\n",
    "    ay+=1\n",
    "    am-=12\n",
    "if am==ad==0:\n",
    "    print(f\"Happy Birthday! You are {ay} years old today.\")\n",
    "else:\n",
    "    print(f\"Your Age is {ay} years {am} months {ad} days\")"
   ]
  },
  {
   "cell_type": "code",
   "execution_count": 44,
   "metadata": {},
   "outputs": [
    {
     "data": {
      "text/plain": [
       "\",jbl;ktdd\\nae4;ij54\\nTJOI;2J\\n43;IJ\\nJ3;T2JTI'TJ\\nJTG;IOJ324'2\\n4\\n4g;iao4\""
      ]
     },
     "execution_count": 44,
     "metadata": {},
     "output_type": "execute_result"
    }
   ],
   "source": [
    "\"\"\",jbl;ktdd\n",
    "ae4;ij54\n",
    "TJOI;2J\n",
    "43;IJ\n",
    "J3;T2JTI'TJ\n",
    "JTG;IOJ324'2\n",
    "4\n",
    "4g;iao4\"\"\""
   ]
  },
  {
   "cell_type": "code",
   "execution_count": 32,
   "metadata": {},
   "outputs": [],
   "source": [
    "a=[12,5,6,3654,2,6,5,6,54,4,3,3,2,6]\n",
    "#   1  2 3  4   5 6 7 8 9 1011121314"
   ]
  },
  {
   "cell_type": "code",
   "execution_count": 33,
   "metadata": {},
   "outputs": [
    {
     "data": {
      "text/plain": [
       "[6, 3654, 2, 6, 5, 6, 54, 4, 3, 3, 2]"
      ]
     },
     "execution_count": 33,
     "metadata": {},
     "output_type": "execute_result"
    }
   ],
   "source": [
    "a[2:-1]"
   ]
  },
  {
   "cell_type": "code",
   "execution_count": 34,
   "metadata": {},
   "outputs": [
    {
     "data": {
      "text/plain": [
       "[]"
      ]
     },
     "execution_count": 34,
     "metadata": {},
     "output_type": "execute_result"
    }
   ],
   "source": [
    "a[-1:2]"
   ]
  },
  {
   "cell_type": "code",
   "execution_count": 35,
   "metadata": {},
   "outputs": [
    {
     "data": {
      "text/plain": [
       "[12, 5, 6, 3654, 2, 6, 5, 6, 54, 4, 3, 3, 2]"
      ]
     },
     "execution_count": 35,
     "metadata": {},
     "output_type": "execute_result"
    }
   ],
   "source": [
    "a[0:-1]"
   ]
  },
  {
   "cell_type": "code",
   "execution_count": 36,
   "metadata": {},
   "outputs": [
    {
     "data": {
      "text/plain": [
       "[]"
      ]
     },
     "execution_count": 36,
     "metadata": {},
     "output_type": "execute_result"
    }
   ],
   "source": [
    "a[0:0]"
   ]
  },
  {
   "cell_type": "code",
   "execution_count": 37,
   "metadata": {},
   "outputs": [
    {
     "data": {
      "text/plain": [
       "[]"
      ]
     },
     "execution_count": 37,
     "metadata": {},
     "output_type": "execute_result"
    }
   ],
   "source": [
    "a[4:4]"
   ]
  },
  {
   "cell_type": "code",
   "execution_count": 38,
   "metadata": {},
   "outputs": [
    {
     "data": {
      "text/plain": [
       "[6, 6]"
      ]
     },
     "execution_count": 38,
     "metadata": {},
     "output_type": "execute_result"
    }
   ],
   "source": [
    "a[5:9:2]"
   ]
  },
  {
   "cell_type": "code",
   "execution_count": 39,
   "metadata": {},
   "outputs": [
    {
     "data": {
      "text/plain": [
       "[6, 54]"
      ]
     },
     "execution_count": 39,
     "metadata": {},
     "output_type": "execute_result"
    }
   ],
   "source": [
    "a[5:9:3]"
   ]
  },
  {
   "cell_type": "code",
   "execution_count": 40,
   "metadata": {},
   "outputs": [
    {
     "data": {
      "text/plain": [
       "[6]"
      ]
     },
     "execution_count": 40,
     "metadata": {},
     "output_type": "execute_result"
    }
   ],
   "source": [
    "a[5:8:3]"
   ]
  },
  {
   "cell_type": "code",
   "execution_count": 41,
   "metadata": {},
   "outputs": [
    {
     "data": {
      "text/plain": [
       "[6, 54, 3]"
      ]
     },
     "execution_count": 41,
     "metadata": {},
     "output_type": "execute_result"
    }
   ],
   "source": [
    "a[5:12:3]"
   ]
  },
  {
   "cell_type": "code",
   "execution_count": 42,
   "metadata": {},
   "outputs": [
    {
     "data": {
      "text/plain": [
       "[]"
      ]
     },
     "execution_count": 42,
     "metadata": {},
     "output_type": "execute_result"
    }
   ],
   "source": [
    "a[5:9:-1]"
   ]
  },
  {
   "cell_type": "code",
   "execution_count": 43,
   "metadata": {},
   "outputs": [
    {
     "data": {
      "text/plain": [
       "[4, 54, 6, 5]"
      ]
     },
     "execution_count": 43,
     "metadata": {},
     "output_type": "execute_result"
    }
   ],
   "source": [
    "a[9:5:-1]"
   ]
  },
  {
   "cell_type": "code",
   "execution_count": 1,
   "metadata": {},
   "outputs": [],
   "source": [
    "a=[77777,-77777777777,5656565656]"
   ]
  },
  {
   "cell_type": "code",
   "execution_count": 2,
   "metadata": {},
   "outputs": [
    {
     "data": {
      "text/plain": [
       "[77777, -77777777777, 5656565656]"
      ]
     },
     "execution_count": 2,
     "metadata": {},
     "output_type": "execute_result"
    }
   ],
   "source": [
    "a"
   ]
  },
  {
   "cell_type": "code",
   "execution_count": null,
   "metadata": {},
   "outputs": [],
   "source": [
    "\n",
    "\n",
    "\n",
    "\n",
    "\n",
    "gyut6dfhtfc\n"
   ]
  }
 ],
 "metadata": {
  "kernelspec": {
   "display_name": "Python 3",
   "language": "python",
   "name": "python3"
  },
  "language_info": {
   "codemirror_mode": {
    "name": "ipython",
    "version": 3
   },
   "file_extension": ".py",
   "mimetype": "text/x-python",
   "name": "python",
   "nbconvert_exporter": "python",
   "pygments_lexer": "ipython3",
   "version": "3.7.3"
  }
 },
 "nbformat": 4,
 "nbformat_minor": 2
}
