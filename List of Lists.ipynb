{
 "cells": [
  {
   "cell_type": "code",
   "execution_count": 1,
   "metadata": {},
   "outputs": [],
   "source": [
    "#List of Lists\n",
    "alist=[]\n",
    "u=0\n",
    "for ac in range (0,6):\n",
    "    blist=[]\n",
    "    for ab in range(0,11):\n",
    "        blist.append(ab**u)\n",
    "    alist.append(blist)\n",
    "    u+=1"
   ]
  },
  {
   "cell_type": "code",
   "execution_count": 2,
   "metadata": {},
   "outputs": [],
   "source": [
    "POWER=[]\n",
    "for t in range (0,1000):\n",
    "    glist=[]\n",
    "    for u in range(0,100):\n",
    "        glist.append(t**u)\n",
    "    POWER.append(glist)"
   ]
  },
  {
   "cell_type": "code",
   "execution_count": 7,
   "metadata": {},
   "outputs": [
    {
     "name": "stdout",
     "output_type": "stream",
     "text": [
      "Program to find PoweR.\n",
      "Enter the expression5^3\n",
      "125\n"
     ]
    }
   ],
   "source": [
    "i=input(\"Program to find PoweR.\\nEnter the expression\")\n",
    "i=i.split(\"^\")\n",
    "a=int(i[0])\n",
    "b=int(i[1])\n",
    "print(POWER[a][b])"
   ]
  },
  {
   "cell_type": "code",
   "execution_count": 23,
   "metadata": {},
   "outputs": [],
   "source": [
    "liste=[[\"redapple\",\"greenapple\"],\n",
    "      [\"goodbanana\",\"spoilbanana\",\"yellowbanana\"],\n",
    "      [\"mersedes\",\"suzuki\",\"civic\",\"mehran\",\"honda\",\"buggatti\",\"lamborghini\"],\n",
    "      [\"bike\",[\"ducati\",\"racerx\"],\"honda\"],\n",
    "      [\"dell\",'hp',\"Hello\"]]"
   ]
  },
  {
   "cell_type": "code",
   "execution_count": 24,
   "metadata": {},
   "outputs": [
    {
     "name": "stdout",
     "output_type": "stream",
     "text": [
      "['redapple', 'greenapple']\n",
      "mehran\n",
      "['ducati', 'racerx']\n",
      "racerx\n"
     ]
    }
   ],
   "source": [
    "print(liste[0])\n",
    "print(liste[2][3])\n",
    "print(liste[3][1])\n",
    "print(liste[3][1][1])"
   ]
  },
  {
   "cell_type": "code",
   "execution_count": 25,
   "metadata": {},
   "outputs": [],
   "source": [
    "wlist=[[\"A\",\"B\",\"C\",\"D\",\"E\",\"F\",\"G\",\"H\",\"I\",\"J\",\"K\"],\n",
    "      [\"a\",\"v\",\"e\",\"i\",\"t\",\"r\",\"s\",\"u\",\"y\",\"m\",\"n\",\"l\"],\n",
    "      0,1,2,3,4,5,6,7,8,9]"
   ]
  },
  {
   "cell_type": "code",
   "execution_count": 26,
   "metadata": {},
   "outputs": [
    {
     "name": "stdout",
     "output_type": "stream",
     "text": [
      "4\n",
      "['a', 'v', 'e', 'i', 't', 'r', 's', 'u', 'y', 'm', 'n', 'l']\n",
      "6\n"
     ]
    }
   ],
   "source": [
    "print(wlist[6])\n",
    "print(wlist[1])\n",
    "print(wlist[8])"
   ]
  },
  {
   "cell_type": "code",
   "execution_count": 28,
   "metadata": {},
   "outputs": [
    {
     "name": "stdout",
     "output_type": "stream",
     "text": [
      "4 Asim Ali"
     ]
    }
   ],
   "source": [
    "print(wlist[6],end=\" \")\n",
    "print(wlist[0][0],end=\"\")\n",
    "print(wlist[1][6],end=\"\")\n",
    "print(wlist[1][3],end=\"\")\n",
    "print(wlist[1][9],end=\" \")\n",
    "print(wlist[0][0],end=\"\")\n",
    "print(wlist[1][11],end=\"\")\n",
    "print(wlist[1][3],end=\"\")"
   ]
  },
  {
   "cell_type": "code",
   "execution_count": 48,
   "metadata": {},
   "outputs": [
    {
     "name": "stdout",
     "output_type": "stream",
     "text": [
      "{0: 0, 1: 5, 2: 10, 3: 15, 4: 20, 5: 25, 6: 30, 7: 35, 8: 40, 9: 45, 10: 50, 11: 55, 12: 60, 13: 65, 14: 70, 15: 75, 16: 80, 17: 85, 18: 90, 19: 95, 20: 100, 21: 105, 22: 110, 23: 115, 24: 120, 25: 125, 26: 130, 27: 135, 28: 140, 29: 145, 30: 150, 31: 155, 32: 160, 33: 165, 34: 170, 35: 175, 36: 180, 37: 185, 38: 190, 39: 195, 40: 200, 41: 205, 42: 210, 43: 215, 44: 220, 45: 225, 46: 230, 47: 235, 48: 240, 49: 245, 50: 250, 51: 255, 52: 260, 53: 265, 54: 270, 55: 275, 56: 280, 57: 285, 58: 290, 59: 295, 60: 300, 61: 305, 62: 310, 63: 315, 64: 320, 65: 325, 66: 330, 67: 335, 68: 340, 69: 345, 70: 350, 71: 355, 72: 360, 73: 365, 74: 370, 75: 375, 76: 380, 77: 385, 78: 390, 79: 395, 80: 400, 81: 405, 82: 410, 83: 415, 84: 420, 85: 425, 86: 430, 87: 435, 88: 440, 89: 445, 90: 450, 91: 455, 92: 460, 93: 465, 94: 470, 95: 475, 96: 480, 97: 485, 98: 490, 99: 495}\n",
      "12\n",
      "12\n",
      "35\n",
      "18\n",
      "20\n"
     ]
    }
   ],
   "source": [
    "##########################################\n",
    "listofdictionaries=[]\n",
    "for ay in range(0,10000):\n",
    "    hj={}\n",
    "    for tt in range(0,10000):\n",
    "        hj[tt]=tt*ay\n",
    "    listofdictionaries.append(hj)\n",
    "#for aaa in range(0,10):\n",
    " #   print(listofdictionaries[aaa])\n",
    "\n",
    "print(listofdictionaries[4][3])    \n",
    "print(listofdictionaries[][4])\n",
    "print(listofdictionaries[5][7])\n",
    "print(listofdictionaries[3][6])\n",
    "print(listofdictionaries[4][5])\n",
    "\n",
    "\n",
    "\n",
    "\n",
    "\n",
    "\n",
    "\n",
    "\n"
   ]
  },
  {
   "cell_type": "code",
   "execution_count": null,
   "metadata": {},
   "outputs": [],
   "source": []
  }
 ],
 "metadata": {
  "kernelspec": {
   "display_name": "Python 3",
   "language": "python",
   "name": "python3"
  },
  "language_info": {
   "codemirror_mode": {
    "name": "ipython",
    "version": 3
   },
   "file_extension": ".py",
   "mimetype": "text/x-python",
   "name": "python",
   "nbconvert_exporter": "python",
   "pygments_lexer": "ipython3",
   "version": "3.7.3"
  }
 },
 "nbformat": 4,
 "nbformat_minor": 2
}
