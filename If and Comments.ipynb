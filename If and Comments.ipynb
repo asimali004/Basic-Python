{
 "cells": [
  {
   "cell_type": "code",
   "execution_count": 27,
   "metadata": {},
   "outputs": [
    {
     "name": "stdout",
     "output_type": "stream",
     "text": [
      "5  is greater than  4\n",
      "Cell 1\n"
     ]
    }
   ],
   "source": [
    "a=5\n",
    "b=4\n",
    "c=3\n",
    "\n",
    "if a>b:\n",
    "    print(a,\" is greater than \",b)\n",
    "\n",
    "if a<b:\n",
    "    print(a,\" is less than b \",b)\n",
    "print (\"Cell 1\")"
   ]
  },
  {
   "cell_type": "code",
   "execution_count": 32,
   "metadata": {},
   "outputs": [
    {
     "name": "stdout",
     "output_type": "stream",
     "text": [
      "Hello World\n",
      "Cell 2\n"
     ]
    }
   ],
   "source": [
    "if c>b:# S1\n",
    "    print(c,\" is greater than \",b)\n",
    "    print(b,\" is less than \",c)\n",
    "    print(\"S1 is executed\")\n",
    "print (\"Hello World\")\n",
    "print (\"Cell 2\")"
   ]
  },
  {
   "cell_type": "code",
   "execution_count": 33,
   "metadata": {},
   "outputs": [
    {
     "name": "stdout",
     "output_type": "stream",
     "text": [
      "4  is greater than  3\n",
      "3  is less than  4\n",
      "S2 is executed\n",
      "Hello World\n",
      "Cell 3\n"
     ]
    }
   ],
   "source": [
    "if c<b:# S2\n",
    "    #Test whether it is indented\n",
    "    print(b,\" is greater than \",c)\n",
    "    print(c,\" is less than \",b)\n",
    "    print(\"S2 is executed\")\n",
    "print (\"Hello World\")\n",
    "print (\"Cell 3\")"
   ]
  },
  {
   "cell_type": "code",
   "execution_count": 39,
   "metadata": {},
   "outputs": [
    {
     "name": "stdout",
     "output_type": "stream",
     "text": [
      "Class 1\n",
      "Class 2\n",
      "Class 3\n",
      "Class 4\n",
      "Class 5\n",
      "Class 6\n"
     ]
    }
   ],
   "source": [
    "print(\"Class 1\")\n",
    "print(\"Class 2\")\n",
    "print(\"Class 3\")\n",
    "print(\"Class 4\")\n",
    "print(\"Class 5\")\n",
    "print(\"Class 6\")"
   ]
  },
  {
   "cell_type": "code",
   "execution_count": 3,
   "metadata": {},
   "outputs": [
    {
     "name": "stdout",
     "output_type": "stream",
     "text": [
      "Roots are :\n",
      "x1 = -1.00 + 1.41i\n",
      "x2 = -1.00 + 1.41i\n"
     ]
    }
   ],
   "source": [
    "import Formulae as re\n",
    "re.qf(1,2,3)"
   ]
  },
  {
   "cell_type": "code",
   "execution_count": null,
   "metadata": {},
   "outputs": [],
   "source": []
  }
 ],
 "metadata": {
  "kernelspec": {
   "display_name": "Python 3",
   "language": "python",
   "name": "python3"
  },
  "language_info": {
   "codemirror_mode": {
    "name": "ipython",
    "version": 3
   },
   "file_extension": ".py",
   "mimetype": "text/x-python",
   "name": "python",
   "nbconvert_exporter": "python",
   "pygments_lexer": "ipython3",
   "version": "3.7.3"
  }
 },
 "nbformat": 4,
 "nbformat_minor": 2
}
