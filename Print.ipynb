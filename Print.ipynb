{
 "cells": [
  {
   "cell_type": "code",
   "execution_count": 7,
   "metadata": {},
   "outputs": [
    {
     "name": "stdout",
     "output_type": "stream",
     "text": [
      "\n"
     ]
    }
   ],
   "source": [
    "print()#blank"
   ]
  },
  {
   "cell_type": "code",
   "execution_count": 8,
   "metadata": {},
   "outputs": [
    {
     "name": "stdout",
     "output_type": "stream",
     "text": [
      "12.3\n"
     ]
    }
   ],
   "source": [
    "print(12.3)#float"
   ]
  },
  {
   "cell_type": "code",
   "execution_count": 10,
   "metadata": {},
   "outputs": [
    {
     "name": "stdout",
     "output_type": "stream",
     "text": [
      "1234\n"
     ]
    }
   ],
   "source": [
    "print(1234)#integer"
   ]
  },
  {
   "cell_type": "code",
   "execution_count": 9,
   "metadata": {},
   "outputs": [
    {
     "name": "stdout",
     "output_type": "stream",
     "text": [
      "Hello World\n"
     ]
    }
   ],
   "source": [
    "print(\"Hello World\")#string"
   ]
  },
  {
   "cell_type": "code",
   "execution_count": 12,
   "metadata": {},
   "outputs": [
    {
     "name": "stdout",
     "output_type": "stream",
     "text": [
      "Student1 # Student2 # Student3\n"
     ]
    }
   ],
   "source": [
    "print(\"Student1\",\"Student2\",\"Student3\",sep=\" # \")#Separator"
   ]
  },
  {
   "cell_type": "code",
   "execution_count": 22,
   "metadata": {},
   "outputs": [
    {
     "name": "stdout",
     "output_type": "stream",
     "text": [
      "Drama1Drama2\n",
      "Drama3\tDrama4hiDrama4\n"
     ]
    }
   ],
   "source": [
    "print(\"Drama1\", end=\"\")\n",
    "print(\"Drama2\", end=\"\\n\")\n",
    "print(\"Drama3\", end=\"\\t\")\n",
    "print(\"Drama4\", end=\"hi\")\n",
    "print(\"Drama4\",)"
   ]
  },
  {
   "cell_type": "code",
   "execution_count": 24,
   "metadata": {},
   "outputs": [
    {
     "name": "stdout",
     "output_type": "stream",
     "text": [
      "ra\u0007ra\u0007"
     ]
    }
   ],
   "source": [
    "print(\"ra\",end=\"\\a\")\n",
    "print(\"ra\",end=\"\\a\")"
   ]
  },
  {
   "cell_type": "code",
   "execution_count": 1,
   "metadata": {},
   "outputs": [
    {
     "name": "stdout",
     "output_type": "stream",
     "text": [
      "+\n",
      "++\n",
      "+++\n",
      "++++\n",
      "+++++\n"
     ]
    }
   ],
   "source": [
    "print (\"+\")\n",
    "print (\"++\")\n",
    "print (\"+++\")\n",
    "print (\"++++\")\n",
    "print (\"+++++\")"
   ]
  },
  {
   "cell_type": "code",
   "execution_count": 4,
   "metadata": {},
   "outputs": [
    {
     "name": "stdout",
     "output_type": "stream",
     "text": [
      "++++++++  ++++++++  +++++++++  +       +\n",
      "+      +  +             +      ++     ++\n",
      "+      +  +             +      + +   + +\n",
      "+      +  +             +      +  + +  +\n",
      "++++++++  ++++++++      +      +   +   +\n",
      "+      +         +      +      +       +\n",
      "+      +         +      +      +       +\n",
      "+      +         +      +      +       +\n",
      "+      +  ++++++++  +++++++++  +       +\n"
     ]
    }
   ],
   "source": [
    "print (\"++++++++  ++++++++  +++++++++  +       +\")\n",
    "print (\"+      +  +             +      ++     ++\")\n",
    "print (\"+      +  +             +      + +   + +\")\n",
    "print (\"+      +  +             +      +  + +  +\")\n",
    "print (\"++++++++  ++++++++      +      +   +   +\")\n",
    "print (\"+      +         +      +      +       +\")\n",
    "print (\"+      +         +      +      +       +\")\n",
    "print (\"+      +         +      +      +       +\")\n",
    "print (\"+      +  ++++++++  +++++++++  +       +\")"
   ]
  },
  {
   "cell_type": "code",
   "execution_count": null,
   "metadata": {},
   "outputs": [],
   "source": []
  }
 ],
 "metadata": {
  "kernelspec": {
   "display_name": "Python 3",
   "language": "python",
   "name": "python3"
  },
  "language_info": {
   "codemirror_mode": {
    "name": "ipython",
    "version": 3
   },
   "file_extension": ".py",
   "mimetype": "text/x-python",
   "name": "python",
   "nbconvert_exporter": "python",
   "pygments_lexer": "ipython3",
   "version": "3.7.3"
  }
 },
 "nbformat": 4,
 "nbformat_minor": 2
}
