{
 "cells": [
  {
   "cell_type": "code",
   "execution_count": null,
   "metadata": {},
   "outputs": [],
   "source": [
    "#Lets import the packages that could be needed in this problem\n",
    "import numpy as np\n",
    "\n",
    "import gurobipy as gp\n",
    "from gurobipy import GRB\n",
    "\n",
    "#Prameters\n",
    "patients = [\"Patient 1\",\"Patient 2\"]\n",
    "\n",
    "doctors = [\"Doctor 4\",\"Doctor 5\"]\n",
    "\n",
    "# Hours that a specific doctor will gice to specific patient\n",
    "hours = {\n",
    "    (\"Doctor 4\",\"Patient 1\") : 130,\n",
    "    (\"Doctor 4\",\"Patient 2\") : 95,\n",
    "    (\"Doctor 5\",\"Patient 1\") : 118,\n",
    "    (\"Doctor 5\",\"Patient 2\") : 83,\n",
    "}\n",
    "\n",
    "pet = gp.Model(\"Patients Problems\")\n",
    "#no. of patients visit every day\n",
    "patien = pet.addVars(patients, name=\"Patient\")\n",
    "doctor = pet.addVars(doctors, name=\"Doctors\")\n"
   ]
  }
 ],
 "metadata": {
  "kernelspec": {
   "display_name": "Python 3",
   "language": "python",
   "name": "python3"
  },
  "language_info": {
   "codemirror_mode": {
    "name": "ipython",
    "version": 3
   },
   "file_extension": ".py",
   "mimetype": "text/x-python",
   "name": "python",
   "nbconvert_exporter": "python",
   "pygments_lexer": "ipython3",
   "version": "3.7.3"
  }
 },
 "nbformat": 4,
 "nbformat_minor": 2
}
