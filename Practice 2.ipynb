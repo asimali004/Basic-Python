{
 "cells": [
  {
   "cell_type": "code",
   "execution_count": 1,
   "metadata": {},
   "outputs": [
    {
     "name": "stdout",
     "output_type": "stream",
     "text": [
      " !\"#$%&'()*+,-./0123456789:;<=>?@"
     ]
    }
   ],
   "source": [
    "ag=\"\"\n",
    "for a in range(32,65):\n",
    "    a=chr(a)\n",
    "    ag+=a\n",
    "    print(a,end=\"\")"
   ]
  },
  {
   "cell_type": "code",
   "execution_count": 23,
   "metadata": {},
   "outputs": [
    {
     "name": "stdout",
     "output_type": "stream",
     "text": [
      "Enter namefafa\n",
      "Enter your age fafa3\n"
     ]
    }
   ],
   "source": [
    "name=input('Enter name')\n",
    "ame=input(f\"Enter your age {name}\")"
   ]
  },
  {
   "cell_type": "code",
   "execution_count": 26,
   "metadata": {},
   "outputs": [
    {
     "name": "stdout",
     "output_type": "stream",
     "text": [
      "fafa 5 6 7 4 5 6 3\n"
     ]
    }
   ],
   "source": [
    "print(name,5,6,7,4,5,6,ame)"
   ]
  },
  {
   "cell_type": "code",
   "execution_count": 2,
   "metadata": {},
   "outputs": [
    {
     "name": "stdout",
     "output_type": "stream",
     "text": [
      "  1  2  3  4  5  6  7  8  9\n",
      "  2  4  6  8 10 12 14 16 18\n",
      "  3  6  9 12 15 18 21 24 27\n",
      "  4  8 12 16 20 24 28 32 36\n",
      "  5 10 15 20 25 30 35 40 45\n",
      "  6 12 18 24 30 36 42 48 54\n",
      "  7 14 21 28 35 42 49 56 63\n",
      "  8 16 24 32 40 48 56 64 72\n",
      "  9 18 27 36 45 54 63 72 81\n"
     ]
    }
   ],
   "source": [
    "for a in range(1,10):\n",
    "    for b in range(1,10):\n",
    "        print(\"%3d\"%(a*b),end=\"\")\n",
    "    print(\"\")"
   ]
  },
  {
   "cell_type": "code",
   "execution_count": null,
   "metadata": {},
   "outputs": [],
   "source": [
    "for a in range(1,11):\n",
    "    im=input(\"Enter Number\")\n",
    "    print(\"%3d * %3d = %3d\"%(im,a,im*a))"
   ]
  },
  {
   "cell_type": "code",
   "execution_count": 1,
   "metadata": {},
   "outputs": [
    {
     "name": "stdout",
     "output_type": "stream",
     "text": [
      "Enter Number5\n",
      "5 *  1 =   5\n",
      "5 *  2 =  10\n",
      "5 *  3 =  15\n",
      "5 *  4 =  20\n",
      "5 *  5 =  25\n",
      "5 *  6 =  30\n",
      "5 *  7 =  35\n",
      "5 *  8 =  40\n",
      "5 *  9 =  45\n",
      "5 * 10 =  50\n",
      "Enter Number6\n",
      "6 *  1 =   6\n",
      "6 *  2 =  12\n",
      "6 *  3 =  18\n",
      "6 *  4 =  24\n",
      "6 *  5 =  30\n",
      "6 *  6 =  36\n",
      "6 *  7 =  42\n",
      "6 *  8 =  48\n",
      "6 *  9 =  54\n",
      "6 * 10 =  60\n",
      "Enter Number7\n",
      "7 *  1 =   7\n",
      "7 *  2 =  14\n",
      "7 *  3 =  21\n",
      "7 *  4 =  28\n",
      "7 *  5 =  35\n",
      "7 *  6 =  42\n",
      "7 *  7 =  49\n",
      "7 *  8 =  56\n",
      "7 *  9 =  63\n",
      "7 * 10 =  70\n",
      "Enter Number8\n",
      "8 *  1 =   8\n",
      "8 *  2 =  16\n",
      "8 *  3 =  24\n",
      "8 *  4 =  32\n",
      "8 *  5 =  40\n",
      "8 *  6 =  48\n",
      "8 *  7 =  56\n",
      "8 *  8 =  64\n",
      "8 *  9 =  72\n",
      "8 * 10 =  80\n",
      "Enter Number1\n",
      "1 *  1 =   1\n",
      "1 *  2 =   2\n",
      "1 *  3 =   3\n",
      "1 *  4 =   4\n",
      "1 *  5 =   5\n",
      "1 *  6 =   6\n",
      "1 *  7 =   7\n",
      "1 *  8 =   8\n",
      "1 *  9 =   9\n",
      "1 * 10 =  10\n",
      "Enter Number2\n",
      "2 *  1 =   2\n",
      "2 *  2 =   4\n",
      "2 *  3 =   6\n",
      "2 *  4 =   8\n",
      "2 *  5 =  10\n",
      "2 *  6 =  12\n",
      "2 *  7 =  14\n",
      "2 *  8 =  16\n",
      "2 *  9 =  18\n",
      "2 * 10 =  20\n",
      "Enter Number3\n",
      "3 *  1 =   3\n",
      "3 *  2 =   6\n",
      "3 *  3 =   9\n",
      "3 *  4 =  12\n",
      "3 *  5 =  15\n",
      "3 *  6 =  18\n",
      "3 *  7 =  21\n",
      "3 *  8 =  24\n",
      "3 *  9 =  27\n",
      "3 * 10 =  30\n",
      "Enter Number4\n",
      "4 *  1 =   4\n",
      "4 *  2 =   8\n",
      "4 *  3 =  12\n",
      "4 *  4 =  16\n",
      "4 *  5 =  20\n",
      "4 *  6 =  24\n",
      "4 *  7 =  28\n",
      "4 *  8 =  32\n",
      "4 *  9 =  36\n",
      "4 * 10 =  40\n",
      "Enter Number5\n",
      "5 *  1 =   5\n",
      "5 *  2 =  10\n",
      "5 *  3 =  15\n",
      "5 *  4 =  20\n",
      "5 *  5 =  25\n",
      "5 *  6 =  30\n",
      "5 *  7 =  35\n",
      "5 *  8 =  40\n",
      "5 *  9 =  45\n",
      "5 * 10 =  50\n",
      "Enter Number6\n",
      "6 *  1 =   6\n",
      "6 *  2 =  12\n",
      "6 *  3 =  18\n",
      "6 *  4 =  24\n",
      "6 *  5 =  30\n",
      "6 *  6 =  36\n",
      "6 *  7 =  42\n",
      "6 *  8 =  48\n",
      "6 *  9 =  54\n",
      "6 * 10 =  60\n"
     ]
    }
   ],
   "source": [
    "for a in range(1,11):\n",
    "    im=int(input(\"Enter Number\"))\n",
    "    for a in range(1,11):\n",
    "        print(\"%d * %2d = %3d\"%(im,a,im*a))"
   ]
  },
  {
   "cell_type": "code",
   "execution_count": 7,
   "metadata": {},
   "outputs": [
    {
     "name": "stdout",
     "output_type": "stream",
     "text": [
      "Hello enter a Number100\n",
      "It is a galop number\n"
     ]
    }
   ],
   "source": [
    "ain=input(\"Hello enter a Number\")\n",
    "ssa=ain[0]+ain[-1]\n",
    "sa=int(ssa)\n",
    "g=int(ain)\n",
    "if g%sa==0:\n",
    "    print(\"It is a galop number\")"
   ]
  },
  {
   "cell_type": "code",
   "execution_count": 13,
   "metadata": {},
   "outputs": [
    {
     "name": "stdout",
     "output_type": "stream",
     "text": [
      "Number1234567890\n",
      "To be converted in which base8\n",
      "11145401322"
     ]
    }
   ],
   "source": [
    "t=int(input(\"Number\"))\n",
    "y=int(input(\"To be converted in which base\"))\n",
    "li=[]\n",
    "for a in range(1,t):\n",
    "    if t>=y:\n",
    "        li.append(t%y)\n",
    "    t=t//y\n",
    "    if t<y:\n",
    "        break\n",
    "li.reverse()\n",
    "print(t,end=\"\")\n",
    "for tt in li:\n",
    "    print(tt,end=\"\")"
   ]
  },
  {
   "cell_type": "code",
   "execution_count": 17,
   "metadata": {},
   "outputs": [
    {
     "name": "stdout",
     "output_type": "stream",
     "text": [
      "1,1,2,3,5,8,13,21,34,55,89,144,233,377,610,987,1597,"
     ]
    }
   ],
   "source": [
    "n=0\n",
    "m=1\n",
    "print(f\"{m},\",end=\"\")\n",
    "for a in range(16):\n",
    "    f=n+m\n",
    "    print(f,end=\",\")\n",
    "    n=m\n",
    "    m=f"
   ]
  },
  {
   "cell_type": "code",
   "execution_count": 23,
   "metadata": {},
   "outputs": [
    {
     "name": "stdout",
     "output_type": "stream",
     "text": [
      "128\n",
      "48\n",
      "0 16\n",
      "16\n"
     ]
    }
   ],
   "source": [
    "a=int(input())\n",
    "b=int(input())\n",
    "while a!=0 and b!=0:\n",
    "    if a>b:\n",
    "        a%=b\n",
    "    else:\n",
    "        b%=a\n",
    "print(a,b)\n",
    "gcd=a+b\n",
    "print(gcd)"
   ]
  },
  {
   "cell_type": "code",
   "execution_count": 34,
   "metadata": {},
   "outputs": [
    {
     "name": "stdout",
     "output_type": "stream",
     "text": [
      "43\n",
      "54\n",
      "1\n"
     ]
    }
   ],
   "source": [
    "a=int(input())\n",
    "b=int(input())\n",
    "s=a\n",
    "if b<a:\n",
    "    s=b\n",
    "for q in range(s,0,-1):\n",
    "    if a%q==0 and b%q==0:\n",
    "        print(q)\n",
    "        break"
   ]
  },
  {
   "cell_type": "code",
   "execution_count": 1,
   "metadata": {},
   "outputs": [],
   "source": [
    "#Function to solve quadratic formulae\n",
    "def qf(a,b,c):\n",
    "    import math\n",
    "    det=b**2-4*a*c\n",
    "    if det==0:\n",
    "        print(\"Roots are :\\nx1 = %.2f\\nx2 = %.2f\"%((-b/(2*a)),(-b/(2*a))))\n",
    "    elif det>0:\n",
    "        print(\"Roots are :\\nx1 = %.2f\\nx2 = %.2f\"%(((-b+math.sqrt(det))/(2*a)),((-b-math.sqrt(det))/(2*a))))\n",
    "    elif det<0:\n",
    "        print(\"Roots are :\\nx1 = %.2f + %.2fi\\nx2 = %.2f + %.2fi\"%(-b/2*a,(math.sqrt(-1*det))/(2*a),-b/2*a,(math.sqrt(-1*det))/(2*a)))"
   ]
  },
  {
   "cell_type": "code",
   "execution_count": null,
   "metadata": {},
   "outputs": [],
   "source": [
    "a1=int(input())\n",
    "a2=int(input())\n",
    "b1=int(input())\n",
    "b2=int(input())\n",
    "c1=int(input())\n",
    "c2=int(input())\n",
    "for q1 in range(a1,a2+1):\n",
    "    for q2 in range(b1,b2+1):\n",
    "        for q3 in range(c1,c2+1):\n",
    "            qf(q1,q2,q3)"
   ]
  },
  {
   "cell_type": "code",
   "execution_count": 48,
   "metadata": {},
   "outputs": [
    {
     "name": "stdout",
     "output_type": "stream",
     "text": [
      "Enter Number48\n",
      "84\n"
     ]
    }
   ],
   "source": [
    "at=int(input(\"Enter Number\"))\n",
    "nn=0\n",
    "while at>0:\n",
    "    aa=at%10\n",
    "    nn*=10\n",
    "    nn+=aa\n",
    "    at//=10\n",
    "print(nn)"
   ]
  },
  {
   "cell_type": "code",
   "execution_count": null,
   "metadata": {},
   "outputs": [],
   "source": [
    "n1=int(input(\"gvvfi\"))\n",
    "n2=0\n",
    "while n1>0:\n",
    "    digit=n1%10\n",
    "    n1=n1//10\n",
    "    n2=n2*10\n",
    "    n2=n2+digit\n",
    "print(n2)"
   ]
  },
  {
   "cell_type": "code",
   "execution_count": null,
   "metadata": {},
   "outputs": [],
   "source": [
    "saas=input(\"Enter a string\")\n",
    "li={}\n",
    "p=\"01234567890\"\n",
    "q=\"\"\n",
    "for a in saas:\n",
    "    for b in p:\n",
    "        if b==a:\n",
    "            q+=b\n",
    "            if b in li.keys():\n",
    "                li[b]=li[b]+1\n",
    "                q=\"\"\n",
    "                break\n",
    "            li[q]=1\n",
    "            q=\"\"\n",
    "        #del li[\"\"]\n",
    "print(li)\n",
    "for aa in li.keys():\n",
    "    if a!=\"\":\n",
    "        print(aa)"
   ]
  },
  {
   "cell_type": "code",
   "execution_count": null,
   "metadata": {},
   "outputs": [],
   "source": [
    "ads=[\"Monday\",\"Tuesday\",\"Wednesday\",\"Thursday\",\"Friday\",\"Saturday\",\"Sunday\"]\n",
    "slots=[\"7:30 to 8:00\",\"8:00 to 8:30\",\"8:30 to 9:00\",\"9:00 to 9:30\",\"9:30 to 10:00\",\"4:00 to 5:00\",\"5:00 to 6:00\",\"6:00 to 7:00\"]\n",
    "tt={}\n",
    "for aa in ads:\n",
    "    b={}\n",
    "    for asa in slots:\n",
    "        uu=input(f\"Enter Task {aa} {asa} \")\n",
    "        b[asa]=uu\n",
    "        asdd=aa+\" \"+asa+\" \"+uu+\"\\n\"\n",
    "        with open(\"t3m2t1bl2.txt\",\"a\")as s:\n",
    "            s.write(asdd)\n",
    "    tt[aa]=b"
   ]
  },
  {
   "cell_type": "code",
   "execution_count": 2,
   "metadata": {},
   "outputs": [
    {
     "name": "stdout",
     "output_type": "stream",
     "text": [
      "Enter a String Contqaaining Numbers AlsoAlsoFJE94FW32JFA;OI34\n",
      "['AlsoFJE94FW', '2JFA;OI', '4']\n"
     ]
    }
   ],
   "source": [
    "Ea=input(\"Enter a String Contqaaining Numbers Also\")\n",
    "b=Ea.split('3')\n",
    "print(b)"
   ]
  },
  {
   "cell_type": "code",
   "execution_count": 3,
   "metadata": {},
   "outputs": [
    {
     "ename": "SyntaxError",
     "evalue": "invalid syntax (<ipython-input-3-8be29850016e>, line 3)",
     "output_type": "error",
     "traceback": [
      "\u001b[1;36m  File \u001b[1;32m\"<ipython-input-3-8be29850016e>\"\u001b[1;36m, line \u001b[1;32m3\u001b[0m\n\u001b[1;33m    print(\"%s\",%asaas)\u001b[0m\n\u001b[1;37m               ^\u001b[0m\n\u001b[1;31mSyntaxError\u001b[0m\u001b[1;31m:\u001b[0m invalid syntax\n"
     ]
    }
   ],
   "source": [
    "with open(\"t3m2t1bl2.txt\",\"r\")as o:\n",
    "    asaas=o.read()\n",
    "    print(\"%d\",%asaas)"
   ]
  },
  {
   "cell_type": "code",
   "execution_count": 3,
   "metadata": {},
   "outputs": [
    {
     "name": "stdout",
     "output_type": "stream",
     "text": [
      "Enter a list by separated commas3,5,3,2,9,5,32\n",
      "['3', '5', '3', '2', '9', '5', '32']\n"
     ]
    }
   ],
   "source": [
    "a=input(\"Enter a list by separated commas\")\n",
    "b=a.split(',')\n",
    "print(b)\n",
    "a=1\n",
    "for aa in b:\n",
    "    ab=int(aa)\n",
    "    if a==1:\n",
    "        max=ab\n",
    "        a=2\n",
    "    else:\n",
    "        if ab>max:\n",
    "            max=ab\"\n",
    "\n",
    "            \n",
    "with open(\"newfile.txt\",\"w\")as u:\n",
    "    u.write(q)"
   ]
  },
  {
   "cell_type": "code",
   "execution_count": 2,
   "metadata": {},
   "outputs": [],
   "source": [
    "def tfaw(u,wtbf):\n",
    "    for a in range(0,len(u)-len(wtbf)-1):\n",
    "        aa=\"\"\n",
    "        for ua in range(a,a+len(wtbf)):\n",
    "                        aa+=u[ua]\n",
    "        aaaa=aa.lower()\n",
    "        if aaaa==wtbf:\n",
    "            print(\"Match Found\")"
   ]
  },
  {
   "cell_type": "code",
   "execution_count": null,
   "metadata": {},
   "outputs": [
    {
     "name": "stdout",
     "output_type": "stream",
     "text": [
      "Enter paragraphhfhoerifiosasfuirhnkjnkfkh848rtfoirejiqhassamjfoijjeroihfngnergiuiheghnvngvvvfffkljerjrfiojoifjasimoifjjeroijf\n",
      "Enter word to be foundasim\n",
      "Match Found\n",
      "Enter word to be foundali\n",
      "Enter word to be foundhassam\n",
      "Match Found\n",
      "Enter word to be found848\n",
      "Match Found\n"
     ]
    }
   ],
   "source": [
    "re=input(\"Enter paragraph\")\n",
    "for art in range(5):\n",
    "    tt=input(\"Enter word to be found\")\n",
    "    tfaw(re,tt)"
   ]
  },
  {
   "cell_type": "code",
   "execution_count": 10,
   "metadata": {},
   "outputs": [],
   "source": [
    "def mylanguage(senten):\n",
    "    sentence=[]\n",
    "    for t in senten:\n",
    "        sentence.append(t)\n",
    "    for a in sentence:\n",
    "        if a==\"a\" or a==\"A\":\n",
    "            e=sentence.index(a)\n",
    "            sentence.remove(a)\n",
    "            sentence.insert(e,\"1\")\n",
    "        if a==\"e\" or a==\"E\":\n",
    "            e=sentence.index(a)\n",
    "            sentence.remove(a)\n",
    "            sentence.insert(e,\"2\")\n",
    "        if a==\"i\" or a==\"I\":\n",
    "            e=sentence.index(a)\n",
    "            sentence.remove(a)\n",
    "            sentence.insert(e,\"3\")\n",
    "        if a==\"o\" or a==\"O\":\n",
    "            e=sentence.index(a)\n",
    "            sentence.remove(a)\n",
    "            sentence.insert(e,\"4\")\n",
    "        if a==\"u\" or a==\"U\":\n",
    "            e=sentence.index(a)\n",
    "            sentence.remove(a)\n",
    "            sentence.insert(e,\"5\")\n",
    "        if a==\"y\" or a==\"Y\":\n",
    "            e=sentence.index(a)\n",
    "            sentence.remove(a)\n",
    "            sentence.insert(e,\"6\")\n",
    "    ss=\"\"\n",
    "    for aui in sentence:\n",
    "        ss+=aui\n",
    "    return ss"
   ]
  },
  {
   "cell_type": "code",
   "execution_count": 12,
   "metadata": {},
   "outputs": [
    {
     "name": "stdout",
     "output_type": "stream",
     "text": [
      "Enter a Stringqre$%#rfw\n",
      "qr2$%#rfw\n"
     ]
    }
   ],
   "source": [
    "f=input(\"Enter a String\")\n",
    "sss=mylanguage(f)\n",
    "print(sss)"
   ]
  },
  {
   "cell_type": "code",
   "execution_count": 70,
   "metadata": {},
   "outputs": [
    {
     "name": "stdout",
     "output_type": "stream",
     "text": [
      "Enter a list of real numbers0.0,1.0,2.0,3.0,4.0,5.0,6.0,7.0,8.0,9.0,10.0,11.0,12.0,0\n",
      "[0.0, 0.0, 1.0, 2.0, 3.0, 4.0, 5.0, 6.0, 7.0, 8.0, 9.0, 10.0, 11.0, 12.0]\n",
      "The average of the series is 5.571428571428571\n",
      "The mode of the series is/are 0.0,The Mean of the list is \n",
      "5.5\n"
     ]
    }
   ],
   "source": [
    "t=input(\"Enter a list of real numbers\")\n",
    "t=t.split(\",\")\n",
    "tt=[]\n",
    "for aa in t:\n",
    "    tt.append(float(aa))\n",
    "tt.sort(reverse=False)\n",
    "uu={}\n",
    "print(tt)\n",
    "for a in tt:\n",
    "    uu[a]=0\n",
    "for p in tt:\n",
    "    if p in uu:\n",
    "        uu[p]=uu[p]+1\n",
    "summ=0\n",
    "for me in tt:\n",
    "    summ+=me\n",
    "print(f\"The average of the series is {summ/len(tt)}\")\n",
    "max=tt[0]\n",
    "for mo in uu.values():\n",
    "    if mo>max:\n",
    "        max=mo\n",
    "print(\"The mode of the series is/are \",end=\"\")\n",
    "for it in uu.keys():\n",
    "    if uu[it]==max:\n",
    "        print(f\"{it},\",end=\"\")\n",
    "print(\"The Mean of the list is \")\n",
    "if len(tt)%2==0:\n",
    "    print((tt[len(tt)//2-1]+tt[len(tt)//2])/2)\n",
    "else:\n",
    "    print(tt[len(tt)//2])"
   ]
  },
  {
   "cell_type": "code",
   "execution_count": 89,
   "metadata": {},
   "outputs": [
    {
     "name": "stdout",
     "output_type": "stream",
     "text": [
      "Enter a string To check polindrome!@#$%^&*()kk)(*&^%$#@!\n",
      "!@#$%^&*()kk)(*&^%$#@! is a Polindrome String\n"
     ]
    }
   ],
   "source": [
    "po=input(\"Enter a string To check polindrome\")\n",
    "le=0\n",
    "for aaa in po:\n",
    "    le+=1\n",
    "k=-1\n",
    "for aa in range(0,le//2):\n",
    "    if po[aa]==po[k]:\n",
    "        k-=1\n",
    "        continue\n",
    "    else:\n",
    "        k=0\n",
    "        break\n",
    "if k!=0:\n",
    "    print(f\"{po} is a Polindrome String\")\n",
    "else:\n",
    "    print(f\"{po} is not a Polindrome String\")"
   ]
  },
  {
   "cell_type": "code",
   "execution_count": 90,
   "metadata": {},
   "outputs": [
    {
     "name": "stdout",
     "output_type": "stream",
     "text": [
      "7\n"
     ]
    }
   ],
   "source": [
    "a=len(\"fhafie;\")\n",
    "print(a)"
   ]
  },
  {
   "cell_type": "code",
   "execution_count": 5,
   "metadata": {},
   "outputs": [
    {
     "name": "stdout",
     "output_type": "stream",
     "text": [
      "Enter Number5\n",
      "[1, 101, 201, 301, 401, 501]\n"
     ]
    }
   ],
   "source": [
    "f=[]\n",
    "f.append(1)\n",
    "i=int(input(\"Enter Number\"))\n",
    "for aa in range(1,i+1):\n",
    "    g=f[aa-1]+100\n",
    "    f.append(g)\n",
    "print(f)"
   ]
  },
  {
   "cell_type": "code",
   "execution_count": 1,
   "metadata": {},
   "outputs": [],
   "source": [
    "alist=[1,2,3,4,5,6,7,8,9,0]"
   ]
  },
  {
   "cell_type": "code",
   "execution_count": 2,
   "metadata": {},
   "outputs": [],
   "source": [
    "alist.extend([1,2,3,3])"
   ]
  },
  {
   "cell_type": "code",
   "execution_count": 3,
   "metadata": {},
   "outputs": [
    {
     "data": {
      "text/plain": [
       "[1, 2, 3, 4, 5, 6, 7, 8, 9, 0, 1, 2, 3, 3]"
      ]
     },
     "execution_count": 3,
     "metadata": {},
     "output_type": "execute_result"
    }
   ],
   "source": [
    "alist"
   ]
  },
  {
   "cell_type": "code",
   "execution_count": 4,
   "metadata": {},
   "outputs": [
    {
     "data": {
      "text/plain": [
       "3"
      ]
     },
     "execution_count": 4,
     "metadata": {},
     "output_type": "execute_result"
    }
   ],
   "source": [
    "alist.count(3)"
   ]
  },
  {
   "cell_type": "code",
   "execution_count": 5,
   "metadata": {},
   "outputs": [
    {
     "data": {
      "text/plain": [
       "2"
      ]
     },
     "execution_count": 5,
     "metadata": {},
     "output_type": "execute_result"
    }
   ],
   "source": [
    "alist.index(3)"
   ]
  },
  {
   "cell_type": "code",
   "execution_count": 6,
   "metadata": {},
   "outputs": [],
   "source": [
    "alist.insert(0,12)"
   ]
  },
  {
   "cell_type": "code",
   "execution_count": 8,
   "metadata": {},
   "outputs": [
    {
     "data": {
      "text/plain": [
       "[12, 1, 2, 3, 4, 5, 6, 7, 8, 9, 0, 1, 2, 3, 3]"
      ]
     },
     "execution_count": 8,
     "metadata": {},
     "output_type": "execute_result"
    }
   ],
   "source": [
    "alist"
   ]
  },
  {
   "cell_type": "code",
   "execution_count": 9,
   "metadata": {},
   "outputs": [
    {
     "data": {
      "text/plain": [
       "2"
      ]
     },
     "execution_count": 9,
     "metadata": {},
     "output_type": "execute_result"
    }
   ],
   "source": [
    "alist.pop(12)"
   ]
  },
  {
   "cell_type": "code",
   "execution_count": 10,
   "metadata": {},
   "outputs": [
    {
     "data": {
      "text/plain": [
       "[12, 1, 2, 3, 4, 5, 6, 7, 8, 9, 0, 1, 3, 3]"
      ]
     },
     "execution_count": 10,
     "metadata": {},
     "output_type": "execute_result"
    }
   ],
   "source": [
    "alist"
   ]
  },
  {
   "cell_type": "code",
   "execution_count": 14,
   "metadata": {},
   "outputs": [],
   "source": [
    "b=alist.remove(5)"
   ]
  },
  {
   "cell_type": "code",
   "execution_count": 15,
   "metadata": {},
   "outputs": [
    {
     "data": {
      "text/plain": [
       "[12, 1, 2, 3, 6, 7, 8, 9, 0, 1, 3, 3]"
      ]
     },
     "execution_count": 15,
     "metadata": {},
     "output_type": "execute_result"
    }
   ],
   "source": [
    "alist"
   ]
  },
  {
   "cell_type": "code",
   "execution_count": 17,
   "metadata": {},
   "outputs": [
    {
     "name": "stdout",
     "output_type": "stream",
     "text": [
      "None\n"
     ]
    }
   ],
   "source": [
    "print(b)"
   ]
  },
  {
   "cell_type": "code",
   "execution_count": 18,
   "metadata": {},
   "outputs": [],
   "source": [
    "b=alist.pop(4)"
   ]
  },
  {
   "cell_type": "code",
   "execution_count": 19,
   "metadata": {},
   "outputs": [
    {
     "data": {
      "text/plain": [
       "6"
      ]
     },
     "execution_count": 19,
     "metadata": {},
     "output_type": "execute_result"
    }
   ],
   "source": [
    "b"
   ]
  },
  {
   "cell_type": "code",
   "execution_count": 33,
   "metadata": {},
   "outputs": [],
   "source": [
    "alist.insert(6754,\"y\")"
   ]
  },
  {
   "cell_type": "code",
   "execution_count": 34,
   "metadata": {
    "scrolled": true
   },
   "outputs": [
    {
     "data": {
      "text/plain": [
       "[12, 1, 2, 3, 7, 8, 'y', 9, 0, 1, 3, 3, 77, 77, 77, 'y']"
      ]
     },
     "execution_count": 34,
     "metadata": {},
     "output_type": "execute_result"
    }
   ],
   "source": [
    "alist"
   ]
  },
  {
   "cell_type": "code",
   "execution_count": 4,
   "metadata": {},
   "outputs": [
    {
     "name": "stdout",
     "output_type": "stream",
     "text": [
      "Enter a set2fw.qa,,fw\n",
      "[ 2fw.qa ]\n",
      "[  ]\n",
      "[ fw ]\n"
     ]
    }
   ],
   "source": [
    "b=input(\"Enter a set\")\n",
    "a=b.split(\",\")\n",
    "for sa in range (len(a)):\n",
    "    print(\"[\",a[sa],\"]\")\n",
    "    for aa in range (0,sa+1):\n",
    "        "
   ]
  },
  {
   "cell_type": "code",
   "execution_count": 14,
   "metadata": {},
   "outputs": [
    {
     "name": "stdout",
     "output_type": "stream",
     "text": [
      "[[], [8], [7], [7, 8], [6], [6, 8], [6, 7], [6, 7, 8], [5], [5, 8], [5, 7], [5, 7, 8], [5, 6], [5, 6, 8], [5, 6, 7], [5, 6, 7, 8], [4], [4, 8], [4, 7], [4, 7, 8], [4, 6], [4, 6, 8], [4, 6, 7], [4, 6, 7, 8], [4, 5], [4, 5, 8], [4, 5, 7], [4, 5, 7, 8], [4, 5, 6], [4, 5, 6, 8], [4, 5, 6, 7], [4, 5, 6, 7, 8]]\n"
     ]
    }
   ],
   "source": [
    "class py_solution:\n",
    "    def sub_sets(self, sset):\n",
    "        return self.subsetsRecur([], sorted(sset))\n",
    "    \n",
    "    def subsetsRecur(self, current, sset):\n",
    "        if sset:\n",
    "            return self.subsetsRecur(current, sset[1:]) + self.subsetsRecur(current + [sset[0]], sset[1:])\n",
    "        return [current]\n",
    "\n",
    "print(py_solution().sub_sets([4,5,6,7,8]))"
   ]
  },
  {
   "cell_type": "code",
   "execution_count": 18,
   "metadata": {},
   "outputs": [
    {
     "name": "stdout",
     "output_type": "stream",
     "text": [
      "yes\n"
     ]
    }
   ],
   "source": [
    "if 3 in range(3,7):\n",
    "    print(\"yes\")"
   ]
  },
  {
   "cell_type": "code",
   "execution_count": 1,
   "metadata": {},
   "outputs": [],
   "source": [
    "def calc():\n",
    "    u=input(\"\")\n",
    "    plus=u.split(\"+\")\n",
    "    for aa in plus:\n",
    "        minus=aa.split(\"-\")\n",
    "        for bb in minus: \n",
    "            multi=bb.split(\"*\")\n",
    "            for cc in multi:\n",
    "                divi=cc.split(\"/\")\n",
    "                if len(divi)>1:\n",
    "                    a=float(divi[0])/float(divi[1])\n",
    "                    multi.insert(multi.index(cc),a)\n",
    "                    multi.remove(cc)\n",
    "                    break\n",
    "            m=1\n",
    "            for asa in multi:\n",
    "                m*=float(asa)\n",
    "            minus.insert(minus.index(bb),m)\n",
    "            minus.remove(bb)\n",
    "            if len(minus)==1:\n",
    "                plus.insert(plus.index(aa),minus[0])\n",
    "                plus.remove(aa)\n",
    "        for sa in minus:\n",
    "            if len(minus)>1:\n",
    "                ss=2*minus[0]\n",
    "                for aaas in minus:\n",
    "                    ss-=aaas\n",
    "                plus.insert(plus.index(aa),ss)\n",
    "                plus.remove(aa)\n",
    "                break\n",
    "    ans=0\n",
    "    for aaaa in plus:\n",
    "        ans+=float(aaaa)\n",
    "    print(ans)"
   ]
  },
  {
   "cell_type": "code",
   "execution_count": null,
   "metadata": {},
   "outputs": [],
   "source": [
    "for a in range(5):\n",
    "    calc()"
   ]
  },
  {
   "cell_type": "code",
   "execution_count": null,
   "metadata": {},
   "outputs": [],
   "source": [
    "#print(plus)\n",
    "print(minus)\n",
    "print(multi)\n",
    "print(divi)"
   ]
  },
  {
   "cell_type": "code",
   "execution_count": 2,
   "metadata": {},
   "outputs": [],
   "source": [
    "def a(i):\n",
    "    return i"
   ]
  },
  {
   "cell_type": "code",
   "execution_count": 9,
   "metadata": {},
   "outputs": [
    {
     "name": "stdout",
     "output_type": "stream",
     "text": [
      "-21\n"
     ]
    },
    {
     "ename": "ValueError",
     "evalue": "could not convert string to float: ",
     "output_type": "error",
     "traceback": [
      "\u001b[1;31m---------------------------------------------------------------------------\u001b[0m",
      "\u001b[1;31mValueError\u001b[0m                                Traceback (most recent call last)",
      "\u001b[1;32m<ipython-input-9-a43334e89ae2>\u001b[0m in \u001b[0;36m<module>\u001b[1;34m\u001b[0m\n\u001b[0;32m      1\u001b[0m \u001b[0ma\u001b[0m\u001b[1;33m(\u001b[0m\u001b[1;33m-\u001b[0m\u001b[1;36m4\u001b[0m\u001b[1;33m+\u001b[0m\u001b[1;36m5\u001b[0m\u001b[1;33m-\u001b[0m\u001b[1;36m4\u001b[0m\u001b[1;33m+\u001b[0m\u001b[1;36m34\u001b[0m\u001b[1;33m*\u001b[0m\u001b[1;36m4\u001b[0m\u001b[1;33m/\u001b[0m\u001b[1;36m3\u001b[0m\u001b[1;33m)\u001b[0m\u001b[1;33m\u001b[0m\u001b[1;33m\u001b[0m\u001b[0m\n\u001b[0;32m      2\u001b[0m \u001b[1;32mimport\u001b[0m \u001b[0mFormula\u001b[0m \u001b[1;32mas\u001b[0m \u001b[0mf\u001b[0m\u001b[1;33m\u001b[0m\u001b[1;33m\u001b[0m\u001b[0m\n\u001b[1;32m----> 3\u001b[1;33m \u001b[0mf\u001b[0m\u001b[1;33m.\u001b[0m\u001b[0mcalc\u001b[0m\u001b[1;33m(\u001b[0m\u001b[1;33m)\u001b[0m\u001b[1;33m\u001b[0m\u001b[1;33m\u001b[0m\u001b[0m\n\u001b[0m",
      "\u001b[1;32m~\\Formula.py\u001b[0m in \u001b[0;36mcalc\u001b[1;34m()\u001b[0m\n\u001b[0;32m    121\u001b[0m             \u001b[0mm\u001b[0m\u001b[1;33m=\u001b[0m\u001b[1;36m1\u001b[0m\u001b[1;33m\u001b[0m\u001b[1;33m\u001b[0m\u001b[0m\n\u001b[0;32m    122\u001b[0m             \u001b[1;32mfor\u001b[0m \u001b[0masa\u001b[0m \u001b[1;32min\u001b[0m \u001b[0mmulti\u001b[0m\u001b[1;33m:\u001b[0m\u001b[1;33m\u001b[0m\u001b[1;33m\u001b[0m\u001b[0m\n\u001b[1;32m--> 123\u001b[1;33m                 \u001b[0mm\u001b[0m\u001b[1;33m*=\u001b[0m\u001b[0mfloat\u001b[0m\u001b[1;33m(\u001b[0m\u001b[0masa\u001b[0m\u001b[1;33m)\u001b[0m\u001b[1;33m\u001b[0m\u001b[1;33m\u001b[0m\u001b[0m\n\u001b[0m\u001b[0;32m    124\u001b[0m             \u001b[0mminus\u001b[0m\u001b[1;33m.\u001b[0m\u001b[0minsert\u001b[0m\u001b[1;33m(\u001b[0m\u001b[0mminus\u001b[0m\u001b[1;33m.\u001b[0m\u001b[0mindex\u001b[0m\u001b[1;33m(\u001b[0m\u001b[0mbb\u001b[0m\u001b[1;33m)\u001b[0m\u001b[1;33m,\u001b[0m\u001b[0mm\u001b[0m\u001b[1;33m)\u001b[0m\u001b[1;33m\u001b[0m\u001b[1;33m\u001b[0m\u001b[0m\n\u001b[0;32m    125\u001b[0m             \u001b[0mminus\u001b[0m\u001b[1;33m.\u001b[0m\u001b[0mremove\u001b[0m\u001b[1;33m(\u001b[0m\u001b[0mbb\u001b[0m\u001b[1;33m)\u001b[0m\u001b[1;33m\u001b[0m\u001b[1;33m\u001b[0m\u001b[0m\n",
      "\u001b[1;31mValueError\u001b[0m: could not convert string to float: "
     ]
    }
   ],
   "source": [
    "a(-4+5-4+34*4/3)\n",
    "import Formula as f\n",
    "f.calc()"
   ]
  },
  {
   "cell_type": "code",
   "execution_count": 11,
   "metadata": {},
   "outputs": [
    {
     "ename": "TypeError",
     "evalue": "'y' is an invalid keyword argument for print()",
     "output_type": "error",
     "traceback": [
      "\u001b[1;31m---------------------------------------------------------------------------\u001b[0m",
      "\u001b[1;31mTypeError\u001b[0m                                 Traceback (most recent call last)",
      "\u001b[1;32m<ipython-input-11-7b5a79be68f9>\u001b[0m in \u001b[0;36m<module>\u001b[1;34m\u001b[0m\n\u001b[1;32m----> 1\u001b[1;33m \u001b[0mprint\u001b[0m\u001b[1;33m(\u001b[0m\u001b[0my\u001b[0m\u001b[1;33m=\u001b[0m\u001b[1;36m5\u001b[0m\u001b[1;33m)\u001b[0m\u001b[1;33m\u001b[0m\u001b[1;33m\u001b[0m\u001b[0m\n\u001b[0m",
      "\u001b[1;31mTypeError\u001b[0m: 'y' is an invalid keyword argument for print()"
     ]
    }
   ],
   "source": [
    "print(y==)"
   ]
  },
  {
   "cell_type": "code",
   "execution_count": null,
   "metadata": {},
   "outputs": [],
   "source": [
    "for a in range(5):\n",
    "    for bg in range(5):\n",
    "        print(a,bg)\n",
    "        if bg==2:\n",
    "            break"
   ]
  },
  {
   "cell_type": "code",
   "execution_count": 1,
   "metadata": {},
   "outputs": [
    {
     "name": "stdout",
     "output_type": "stream",
     "text": [
      "$V#Wp3k5C#MuLu.\n"
     ]
    }
   ],
   "source": [
    "print(\"$V#Wp3k5C#MuLu.\")"
   ]
  },
  {
   "cell_type": "code",
   "execution_count": 1,
   "metadata": {},
   "outputs": [],
   "source": [
    "import Formulae as rf"
   ]
  },
  {
   "cell_type": "code",
   "execution_count": 2,
   "metadata": {},
   "outputs": [
    {
     "name": "stdout",
     "output_type": "stream",
     "text": [
      "Roots are :\n",
      "x1 = -1.00 + 1.41i\n",
      "x2 = -1.00 + 1.41i\n"
     ]
    }
   ],
   "source": [
    "rf.qf(1,2,3)"
   ]
  },
  {
   "cell_type": "code",
   "execution_count": 2,
   "metadata": {},
   "outputs": [
    {
     "name": "stdout",
     "output_type": "stream",
     "text": [
      "<class 'dict'>\n"
     ]
    }
   ],
   "source": [
    "def find(a,**b):\n",
    "    print(type(b))\n",
    "find('letters','3','1','2')"
   ]
  },
  {
   "cell_type": "code",
   "execution_count": 4,
   "metadata": {
    "scrolled": true
   },
   "outputs": [
    {
     "data": {
      "text/plain": [
       "dict"
      ]
     },
     "execution_count": 4,
     "metadata": {},
     "output_type": "execute_result"
    }
   ],
   "source": [
    "y={1:2,4:3,3:2}\n",
    "type(y)"
   ]
  },
  {
   "cell_type": "code",
   "execution_count": 5,
   "metadata": {},
   "outputs": [
    {
     "name": "stdout",
     "output_type": "stream",
     "text": [
      "Enter comma separated input23,4,6,,89,96\n"
     ]
    }
   ],
   "source": [
    "i=input(\"Enter comma separated input\")\n",
    "u=i.split(\",\")\n",
    "t=tuple(u)"
   ]
  },
  {
   "cell_type": "code",
   "execution_count": 6,
   "metadata": {},
   "outputs": [
    {
     "data": {
      "text/plain": [
       "('23', '4', '6', '', '89', '96')"
      ]
     },
     "execution_count": 6,
     "metadata": {},
     "output_type": "execute_result"
    }
   ],
   "source": [
    "t"
   ]
  },
  {
   "cell_type": "code",
   "execution_count": 7,
   "metadata": {},
   "outputs": [
    {
     "data": {
      "text/plain": [
       "['23', '4', '6', '', '89', '96']"
      ]
     },
     "execution_count": 7,
     "metadata": {},
     "output_type": "execute_result"
    }
   ],
   "source": [
    "u"
   ]
  },
  {
   "cell_type": "code",
   "execution_count": 17,
   "metadata": {},
   "outputs": [
    {
     "name": "stdout",
     "output_type": "stream",
     "text": [
      "3\n",
      "5\n"
     ]
    }
   ],
   "source": [
    "a=int(input())\n",
    "b=int(input())\n",
    "p=[]\n",
    "for x in range(0,a):\n",
    "    r=[]\n",
    "    for y in range(0,b):\n",
    "        r.append(x*y)\n",
    "    p.append(r)"
   ]
  },
  {
   "cell_type": "code",
   "execution_count": 18,
   "metadata": {},
   "outputs": [
    {
     "data": {
      "text/plain": [
       "[[0, 0, 0, 0, 0], [0, 1, 2, 3, 4], [0, 2, 4, 6, 8]]"
      ]
     },
     "execution_count": 18,
     "metadata": {},
     "output_type": "execute_result"
    }
   ],
   "source": [
    "p"
   ]
  },
  {
   "cell_type": "code",
   "execution_count": 19,
   "metadata": {},
   "outputs": [
    {
     "name": "stdout",
     "output_type": "stream",
     "text": [
      "hello,hy,my,alpha\n"
     ]
    },
    {
     "data": {
      "text/plain": [
       "['alpha', 'hello', 'hy', 'my']"
      ]
     },
     "execution_count": 19,
     "metadata": {},
     "output_type": "execute_result"
    }
   ],
   "source": [
    "u=input()\n",
    "yy=u.split(\",\")\n",
    "yy.sort()\n",
    "yy"
   ]
  },
  {
   "cell_type": "code",
   "execution_count": 20,
   "metadata": {},
   "outputs": [
    {
     "name": "stdout",
     "output_type": "stream",
     "text": [
      "hello,hy,my,alpha\n"
     ]
    },
    {
     "data": {
      "text/plain": [
       "['alpha', 'hello', 'hy', 'my']"
      ]
     },
     "execution_count": 20,
     "metadata": {},
     "output_type": "execute_result"
    }
   ],
   "source": [
    "uu=input()\n",
    "y=[x for x in uu.split(\",\")]\n",
    "y.sort()\n",
    "y"
   ]
  },
  {
   "cell_type": "code",
   "execution_count": 23,
   "metadata": {},
   "outputs": [
    {
     "data": {
      "text/plain": [
       "['alpha', 'hello', 'hy', 'my']"
      ]
     },
     "execution_count": 23,
     "metadata": {},
     "output_type": "execute_result"
    }
   ],
   "source": [
    "[xe for xe in y]"
   ]
  },
  {
   "cell_type": "code",
   "execution_count": 26,
   "metadata": {},
   "outputs": [
    {
     "name": "stdout",
     "output_type": "stream",
     "text": [
      "324\n",
      "324\n"
     ]
    }
   ],
   "source": [
    "a=input()\n",
    "u=int(\"%s\"%a)\n",
    "print(u)"
   ]
  },
  {
   "cell_type": "code",
   "execution_count": 27,
   "metadata": {},
   "outputs": [
    {
     "name": "stdout",
     "output_type": "stream",
     "text": [
      "3242e\n"
     ]
    },
    {
     "ename": "ValueError",
     "evalue": "invalid literal for int() with base 10: '3242e'",
     "output_type": "error",
     "traceback": [
      "\u001b[1;31m---------------------------------------------------------------------------\u001b[0m",
      "\u001b[1;31mValueError\u001b[0m                                Traceback (most recent call last)",
      "\u001b[1;32m<ipython-input-27-d19a9a895ba8>\u001b[0m in \u001b[0;36m<module>\u001b[1;34m\u001b[0m\n\u001b[0;32m      1\u001b[0m \u001b[0ma\u001b[0m\u001b[1;33m=\u001b[0m\u001b[0minput\u001b[0m\u001b[1;33m(\u001b[0m\u001b[1;33m)\u001b[0m\u001b[1;33m\u001b[0m\u001b[1;33m\u001b[0m\u001b[0m\n\u001b[1;32m----> 2\u001b[1;33m \u001b[0mu\u001b[0m\u001b[1;33m=\u001b[0m\u001b[0mint\u001b[0m\u001b[1;33m(\u001b[0m\u001b[1;34m\"%s\"\u001b[0m\u001b[1;33m%\u001b[0m\u001b[0ma\u001b[0m\u001b[1;33m)\u001b[0m\u001b[1;33m\u001b[0m\u001b[1;33m\u001b[0m\u001b[0m\n\u001b[0m\u001b[0;32m      3\u001b[0m \u001b[0mprint\u001b[0m\u001b[1;33m(\u001b[0m\u001b[0mu\u001b[0m\u001b[1;33m)\u001b[0m\u001b[1;33m\u001b[0m\u001b[1;33m\u001b[0m\u001b[0m\n",
      "\u001b[1;31mValueError\u001b[0m: invalid literal for int() with base 10: '3242e'"
     ]
    }
   ],
   "source": [
    "a=input()\n",
    "u=int(\"%s\"%a)\n",
    "print(u)"
   ]
  },
  {
   "cell_type": "code",
   "execution_count": 40,
   "metadata": {},
   "outputs": [
    {
     "name": "stdout",
     "output_type": "stream",
     "text": [
      "[,1,,, ,2,,, ,3,,, ,4,,, ,6,,, ,7,,, ,9,,, ,7,,, ,6,,, ,5,,, ,4,,, ,3,,, ,2,1,]\n"
     ]
    }
   ],
   "source": [
    "a=[1,2,3,4,6,7,9,7,6,5,4,3,21]\n",
    "k=\",\".join(str(a))\n",
    "print(k)"
   ]
  },
  {
   "cell_type": "code",
   "execution_count": 41,
   "metadata": {},
   "outputs": [
    {
     "name": "stdout",
     "output_type": "stream",
     "text": [
      "faf,F,r\n"
     ]
    }
   ],
   "source": [
    "a=[\"faf\",\"F\",\"r\"]\n",
    "k=\",\".join(a)\n",
    "print(k)"
   ]
  },
  {
   "cell_type": "code",
   "execution_count": 42,
   "metadata": {},
   "outputs": [
    {
     "name": "stdout",
     "output_type": "stream",
     "text": [
      "[,',f,a,f,',,, ,',F,',,, ,',r,',]\n"
     ]
    }
   ],
   "source": [
    "a=[\"faf\",\"F\",\"r\"]\n",
    "k=\",\".join(str(a))\n",
    "print(k)"
   ]
  },
  {
   "cell_type": "code",
   "execution_count": 1,
   "metadata": {},
   "outputs": [],
   "source": [
    "import Formula as f"
   ]
  },
  {
   "cell_type": "code",
   "execution_count": 2,
   "metadata": {},
   "outputs": [
    {
     "name": "stdout",
     "output_type": "stream",
     "text": [
      "Enter the number of subjects = 2\n",
      "Enter Grade = A-\n",
      "Its credit hours = 3\n",
      "Enter Grade = B+\n",
      "Its credit hours = 3\n",
      "Your GPA is  3.5\n",
      "Want to calaulate another GPA? YES/NONO\n"
     ]
    }
   ],
   "source": [
    "f.gpa()"
   ]
  },
  {
   "cell_type": "code",
   "execution_count": 2,
   "metadata": {},
   "outputs": [
    {
     "name": "stdout",
     "output_type": "stream",
     "text": [
      "Hello World!\n"
     ]
    }
   ],
   "source": [
    "P=print(\"Hello World!\")"
   ]
  },
  {
   "cell_type": "code",
   "execution_count": 3,
   "metadata": {},
   "outputs": [
    {
     "name": "stdout",
     "output_type": "stream",
     "text": [
      "None\n"
     ]
    }
   ],
   "source": [
    "print(P)"
   ]
  },
  {
   "cell_type": "code",
   "execution_count": 4,
   "metadata": {},
   "outputs": [
    {
     "ename": "TypeError",
     "evalue": "unsupported operand type(s) for +: 'NoneType' and 'str'",
     "output_type": "error",
     "traceback": [
      "\u001b[1;31m---------------------------------------------------------------------------\u001b[0m",
      "\u001b[1;31mTypeError\u001b[0m                                 Traceback (most recent call last)",
      "\u001b[1;32m<ipython-input-4-6ebe9bac827c>\u001b[0m in \u001b[0;36m<module>\u001b[1;34m\u001b[0m\n\u001b[1;32m----> 1\u001b[1;33m \u001b[0mP\u001b[0m\u001b[1;33m+\u001b[0m\u001b[1;34m\"hhiuhk\"\u001b[0m\u001b[1;33m\u001b[0m\u001b[1;33m\u001b[0m\u001b[0m\n\u001b[0m",
      "\u001b[1;31mTypeError\u001b[0m: unsupported operand type(s) for +: 'NoneType' and 'str'"
     ]
    }
   ],
   "source": [
    "P+\"hhiuhk\""
   ]
  },
  {
   "cell_type": "code",
   "execution_count": 8,
   "metadata": {},
   "outputs": [
    {
     "data": {
      "text/plain": [
       "{'ansn;'}"
      ]
     },
     "execution_count": 8,
     "metadata": {},
     "output_type": "execute_result"
    }
   ],
   "source": [
    "{\"ansn;\"}-{\"an\"}"
   ]
  },
  {
   "cell_type": "code",
   "execution_count": 13,
   "metadata": {},
   "outputs": [
    {
     "ename": "IndexError",
     "evalue": "list assignment index out of range",
     "output_type": "error",
     "traceback": [
      "\u001b[1;31m---------------------------------------------------------------------------\u001b[0m",
      "\u001b[1;31mIndexError\u001b[0m                                Traceback (most recent call last)",
      "\u001b[1;32m<ipython-input-13-8acffad2075e>\u001b[0m in \u001b[0;36m<module>\u001b[1;34m\u001b[0m\n\u001b[0;32m      1\u001b[0m \u001b[0ma\u001b[0m\u001b[1;33m=\u001b[0m\u001b[1;33m[\u001b[0m\u001b[1;36m332\u001b[0m\u001b[1;33m,\u001b[0m\u001b[1;36m54\u001b[0m\u001b[1;33m,\u001b[0m\u001b[1;36m65\u001b[0m\u001b[1;33m,\u001b[0m\u001b[1;36m765\u001b[0m\u001b[1;33m,\u001b[0m\u001b[1;36m543\u001b[0m\u001b[1;33m,\u001b[0m\u001b[1;36m43\u001b[0m\u001b[1;33m,\u001b[0m\u001b[1;36m23\u001b[0m\u001b[1;33m]\u001b[0m\u001b[1;33m\u001b[0m\u001b[1;33m\u001b[0m\u001b[0m\n\u001b[1;32m----> 2\u001b[1;33m \u001b[1;32mdel\u001b[0m \u001b[0ma\u001b[0m\u001b[1;33m[\u001b[0m\u001b[1;36m54\u001b[0m\u001b[1;33m]\u001b[0m\u001b[1;33m\u001b[0m\u001b[1;33m\u001b[0m\u001b[0m\n\u001b[0m\u001b[0;32m      3\u001b[0m \u001b[0mprint\u001b[0m\u001b[1;33m(\u001b[0m\u001b[0ma\u001b[0m\u001b[1;33m)\u001b[0m\u001b[1;33m\u001b[0m\u001b[1;33m\u001b[0m\u001b[0m\n",
      "\u001b[1;31mIndexError\u001b[0m: list assignment index out of range"
     ]
    }
   ],
   "source": [
    "a=[332,54,65,765,543,43,23]\n",
    "del a[54]\n",
    "print(a)"
   ]
  },
  {
   "cell_type": "code",
   "execution_count": 14,
   "metadata": {},
   "outputs": [
    {
     "name": "stdout",
     "output_type": "stream",
     "text": [
      "[332, 65, 765, 543, 43, 23]\n"
     ]
    }
   ],
   "source": [
    "a.remove(54)\n",
    "print(a)"
   ]
  },
  {
   "cell_type": "code",
   "execution_count": 15,
   "metadata": {},
   "outputs": [
    {
     "ename": "ValueError",
     "evalue": "list.remove(x): x not in list",
     "output_type": "error",
     "traceback": [
      "\u001b[1;31m---------------------------------------------------------------------------\u001b[0m",
      "\u001b[1;31mValueError\u001b[0m                                Traceback (most recent call last)",
      "\u001b[1;32m<ipython-input-15-1ef22fc5bc3b>\u001b[0m in \u001b[0;36m<module>\u001b[1;34m\u001b[0m\n\u001b[1;32m----> 1\u001b[1;33m \u001b[0ma\u001b[0m\u001b[1;33m.\u001b[0m\u001b[0mremove\u001b[0m\u001b[1;33m(\u001b[0m\u001b[1;36m54\u001b[0m\u001b[1;33m)\u001b[0m\u001b[1;33m\u001b[0m\u001b[1;33m\u001b[0m\u001b[0m\n\u001b[0m\u001b[0;32m      2\u001b[0m \u001b[0mprint\u001b[0m\u001b[1;33m(\u001b[0m\u001b[0ma\u001b[0m\u001b[1;33m)\u001b[0m\u001b[1;33m\u001b[0m\u001b[1;33m\u001b[0m\u001b[0m\n",
      "\u001b[1;31mValueError\u001b[0m: list.remove(x): x not in list"
     ]
    }
   ],
   "source": [
    "a.remove(54)\n",
    "print(a)"
   ]
  },
  {
   "cell_type": "code",
   "execution_count": 16,
   "metadata": {},
   "outputs": [
    {
     "ename": "IndexError",
     "evalue": "pop index out of range",
     "output_type": "error",
     "traceback": [
      "\u001b[1;31m---------------------------------------------------------------------------\u001b[0m",
      "\u001b[1;31mIndexError\u001b[0m                                Traceback (most recent call last)",
      "\u001b[1;32m<ipython-input-16-aa50b1a5eef1>\u001b[0m in \u001b[0;36m<module>\u001b[1;34m\u001b[0m\n\u001b[1;32m----> 1\u001b[1;33m \u001b[0me\u001b[0m\u001b[1;33m=\u001b[0m\u001b[0ma\u001b[0m\u001b[1;33m.\u001b[0m\u001b[0mpop\u001b[0m\u001b[1;33m(\u001b[0m\u001b[1;36m54\u001b[0m\u001b[1;33m)\u001b[0m\u001b[1;33m\u001b[0m\u001b[1;33m\u001b[0m\u001b[0m\n\u001b[0m",
      "\u001b[1;31mIndexError\u001b[0m: pop index out of range"
     ]
    }
   ],
   "source": [
    "e=a.pop(54)"
   ]
  },
  {
   "cell_type": "code",
   "execution_count": 17,
   "metadata": {},
   "outputs": [
    {
     "data": {
      "text/plain": [
       "23"
      ]
     },
     "execution_count": 17,
     "metadata": {},
     "output_type": "execute_result"
    }
   ],
   "source": [
    "a.pop()"
   ]
  },
  {
   "cell_type": "code",
   "execution_count": 1,
   "metadata": {},
   "outputs": [],
   "source": [
    "import os"
   ]
  },
  {
   "cell_type": "code",
   "execution_count": 2,
   "metadata": {},
   "outputs": [
    {
     "ename": "ModuleNotFoundError",
     "evalue": "No module named 'selenium'",
     "output_type": "error",
     "traceback": [
      "\u001b[1;31m---------------------------------------------------------------------------\u001b[0m",
      "\u001b[1;31mModuleNotFoundError\u001b[0m                       Traceback (most recent call last)",
      "\u001b[1;32m<ipython-input-2-93833772b63f>\u001b[0m in \u001b[0;36m<module>\u001b[1;34m\u001b[0m\n\u001b[1;32m----> 1\u001b[1;33m \u001b[1;32mfrom\u001b[0m \u001b[0mselenium\u001b[0m \u001b[1;32mimport\u001b[0m \u001b[0mwebdriver\u001b[0m\u001b[1;33m\u001b[0m\u001b[1;33m\u001b[0m\u001b[0m\n\u001b[0m",
      "\u001b[1;31mModuleNotFoundError\u001b[0m: No module named 'selenium'"
     ]
    }
   ],
   "source": [
    "from selenium import webdriver"
   ]
  },
  {
   "cell_type": "code",
   "execution_count": 3,
   "metadata": {},
   "outputs": [
    {
     "name": "stdout",
     "output_type": "stream",
     "text": [
      "Object `selenium` not found.\n"
     ]
    }
   ],
   "source": [
    "selenium??"
   ]
  }
 ],
 "metadata": {
  "kernelspec": {
   "display_name": "Python 3",
   "language": "python",
   "name": "python3"
  },
  "language_info": {
   "codemirror_mode": {
    "name": "ipython",
    "version": 3
   },
   "file_extension": ".py",
   "mimetype": "text/x-python",
   "name": "python",
   "nbconvert_exporter": "python",
   "pygments_lexer": "ipython3",
   "version": "3.7.3"
  }
 },
 "nbformat": 4,
 "nbformat_minor": 2
}
