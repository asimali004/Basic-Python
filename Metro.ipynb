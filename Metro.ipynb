{
 "cells": [
  {
   "cell_type": "code",
   "execution_count": 1,
   "metadata": {},
   "outputs": [],
   "source": [
    "f=[]\n",
    "for a in range(25):\n",
    "    f.append(\"st\"+str(a))"
   ]
  },
  {
   "cell_type": "code",
   "execution_count": 2,
   "metadata": {},
   "outputs": [
    {
     "name": "stdout",
     "output_type": "stream",
     "text": [
      "Enter The Station Numberst6\n"
     ]
    }
   ],
   "source": [
    "ii=input(\"Enter The Station Number\")"
   ]
  },
  {
   "cell_type": "code",
   "execution_count": null,
   "metadata": {},
   "outputs": [
    {
     "name": "stdout",
     "output_type": "stream",
     "text": [
      "Where to gost5\n",
      "5\n",
      "Where to gost6\n",
      "0\n",
      "Where to gost7\n",
      "5\n",
      "Where to gosy8\n",
      "try again\n",
      "Where to gost87\n",
      "try again\n",
      "Where to godag\n",
      "try again\n",
      "Where to gogaerg\n",
      "try again\n",
      "Where to gogaegfraer\n",
      "try again\n",
      "Where to gost54\n",
      "try again\n",
      "Where to goat4\n",
      "try again\n",
      "Where to gost5\n",
      "5\n",
      "Where to gost5\n",
      "5\n"
     ]
    }
   ],
   "source": [
    "while True:\n",
    "    u=input(\"Where to go\")\n",
    "    price=0\n",
    "    if u in f:\n",
    "        if f.index(ii)<f.index(u):\n",
    "            for a in range(f.index(ii),f.index(u)):\n",
    "                price=price+5\n",
    "        else:\n",
    "            for a in range(f.index(u),f.index(ii)):\n",
    "                price=price+5\n",
    "    else:\n",
    "        print(\"try again\")\n",
    "        continue\n",
    "    print(price)"
   ]
  }
 ],
 "metadata": {
  "kernelspec": {
   "display_name": "Python 3",
   "language": "python",
   "name": "python3"
  },
  "language_info": {
   "codemirror_mode": {
    "name": "ipython",
    "version": 3
   },
   "file_extension": ".py",
   "mimetype": "text/x-python",
   "name": "python",
   "nbconvert_exporter": "python",
   "pygments_lexer": "ipython3",
   "version": "3.7.3"
  }
 },
 "nbformat": 4,
 "nbformat_minor": 2
}
