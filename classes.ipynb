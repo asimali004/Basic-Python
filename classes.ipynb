{
 "cells": [
  {
   "cell_type": "code",
   "execution_count": 5,
   "metadata": {},
   "outputs": [],
   "source": [
    "class elec():\n",
    "    def __init__(g,name,roll,gpa):\n",
    "        g.name=name\n",
    "        g.roll=roll\n",
    "        g.gpa=gpa\n",
    "    def cn(g,newname):\n",
    "        g.name=newname\n",
    "    def cr(g,newroll):\n",
    "        g.roll=newroll\n",
    "    def cg(g,gpa):\n",
    "        g.gpa=gpa\n",
    "    def sn(g):\n",
    "        print(f\"The name of student is {g.name}\")\n",
    "    def sr(g):\n",
    "        print(f\"The roll no of {g.name} is {g.roll}\")\n",
    "    def sg(g):\n",
    "        print(f\"The gpa of {g.name} is {g.gpa}\")\n",
    "    def si(f):\n",
    "        print(f\"The name of the student is {f.name}\")\n",
    "        print(f\"The roll no of the student is {f.roll}\")\n",
    "        print(f\"The gpa of the student is {f.gpa}\")"
   ]
  },
  {
   "cell_type": "code",
   "execution_count": 6,
   "metadata": {},
   "outputs": [
    {
     "name": "stdout",
     "output_type": "stream",
     "text": [
      "Syed Asim Ali Shah\n",
      "2018-EE-428\n",
      "3.366\n",
      "3.5\n",
      "The name of student is Syed Asim Ali Shah\n",
      "The name of the student is Syed Asim Ali Shah\n",
      "The roll no of the student is 2018-EE-428\n",
      "The gpa of the student is 3.5\n",
      "The name of student is Kashif Ali\n",
      "The roll no of Kashif Ali is 2018-EE-493\n",
      "The gpa of Kashif Ali is 3.67\n"
     ]
    }
   ],
   "source": [
    "s1=elec(\"Syed Asim Ali Shah\",\"2018-EE-428\",\"3.366\")\n",
    "print(s1.name)\n",
    "print(s1.roll)\n",
    "print(s1.gpa)\n",
    "s1.cg(\"3.5\")\n",
    "print(s1.gpa)\n",
    "s1.sn()\n",
    "s1.si()\n",
    "s2=elec(\"Kashif Ali\",\"2018-EE-493\",\"3.67\")\n",
    "s2.sn()\n",
    "s2.sr()\n",
    "s2.sg()"
   ]
  },
  {
   "cell_type": "code",
   "execution_count": 7,
   "metadata": {},
   "outputs": [],
   "source": [
    "s3=elec(\"Syed Mazz Ali Shah\",\"2020-EE-201\",3.5)"
   ]
  },
  {
   "cell_type": "code",
   "execution_count": 8,
   "metadata": {},
   "outputs": [
    {
     "data": {
      "text/plain": [
       "'2020-EE-201'"
      ]
     },
     "execution_count": 8,
     "metadata": {},
     "output_type": "execute_result"
    }
   ],
   "source": [
    "s3.roll"
   ]
  },
  {
   "cell_type": "code",
   "execution_count": 9,
   "metadata": {},
   "outputs": [
    {
     "name": "stdout",
     "output_type": "stream",
     "text": [
      "Fame eats the skill as demak\n"
     ]
    }
   ],
   "source": [
    "print(\"Fame eats the skill as demak\")"
   ]
  },
  {
   "cell_type": "code",
   "execution_count": 41,
   "metadata": {},
   "outputs": [],
   "source": [
    "class ee_18():\n",
    "    def __init__(self,Entry,inter,name):\n",
    "        self.Entry=Entry\n",
    "        self.inter=inter\n",
    "        self.name=name\n",
    "    def gp(self,sem,gpa,lis={}):\n",
    "        self.lis=lis\n",
    "        #self.gpa=gpa\n",
    "        #self.sem=sem\n",
    "        lis[sem]=gpa\n",
    "    def scgpa(gg):\n",
    "        cgpa=0\n",
    "        j=0\n",
    "        for y in gg.lis.values():\n",
    "            cgpa=float(y)+cgpa\n",
    "            j+=1\n",
    "        print(cgpa/j)"
   ]
  },
  {
   "cell_type": "code",
   "execution_count": 42,
   "metadata": {},
   "outputs": [],
   "source": [
    "ee1=ee_18(23,34,\"fhewia\")"
   ]
  },
  {
   "cell_type": "code",
   "execution_count": 43,
   "metadata": {},
   "outputs": [],
   "source": [
    "ee1.gp(1,3.35625)\n",
    "ee1.gp(2,3.375)\n",
    "ee1.gp(3,3.488888888888889)"
   ]
  },
  {
   "cell_type": "code",
   "execution_count": 44,
   "metadata": {},
   "outputs": [
    {
     "name": "stdout",
     "output_type": "stream",
     "text": [
      "3.4067129629629633\n"
     ]
    }
   ],
   "source": [
    "ee1.scgpa()"
   ]
  },
  {
   "cell_type": "code",
   "execution_count": 224,
   "metadata": {},
   "outputs": [],
   "source": [
    "class Stack():\n",
    "    def __init__(self):\n",
    "        a=[]\n",
    "        self.a=a\n",
    "    def push(self,v):\n",
    "        self.a.append(v)\n",
    "    def show(self):\n",
    "        print(self.a)"
   ]
  },
  {
   "cell_type": "code",
   "execution_count": 193,
   "metadata": {},
   "outputs": [],
   "source": [
    "class stu:\n",
    "    def __init__(self):\n",
    "        fee={}\n",
    "        hofee={}\n",
    "        GPA={}\n",
    "        for aa in range(1,9):\n",
    "            fee[aa]=\"N/A\"\n",
    "            hofee[aa]=\"N/A\"\n",
    "            GPA[aa]=\"N/A\"\n",
    "        self.GPA=GPA\n",
    "        self.fee=fee\n",
    "        self.hofee=hofee\n",
    "    def AddTutionFee(self,semester,newfee):\n",
    "        self.fee[semester]=newfee\n",
    "    def AddHostelFee(self,semester,newhofee):\n",
    "        self.hofee[semester]=newhofee\n",
    "    def AddGPA(self,semester,newGPA):\n",
    "        self.GPA[semester]=newGPA\n",
    "    def TutionFeeRecord(self):\n",
    "        for aa in self.fee.items():\n",
    "            print(aa)\n",
    "    def HostelFeeRecord(self):\n",
    "        for aa in self.hofee.items():\n",
    "            print(aa)\n",
    "    def GPARecord(self):\n",
    "        for aa in self.GPA.items():\n",
    "            print(aa)\n",
    "    def StudentRecord(self):\n",
    "        print(\"Sem.No Tution  Hostel  GPA\")\n",
    "        for aa in range(1,9):\n",
    "            print(\"%3s %8s %6s %6s\"%(aa,self.fee[aa],self.hofee[aa],self.GPA[aa]))\n",
    "    #    print(index(aa)+1,\"\\t\",aa,\"\\t\",self.hofee[index(aa)])"
   ]
  },
  {
   "cell_type": "code",
   "execution_count": 194,
   "metadata": {},
   "outputs": [],
   "source": [
    "s1=stu()"
   ]
  },
  {
   "cell_type": "code",
   "execution_count": 195,
   "metadata": {},
   "outputs": [],
   "source": [
    "s1.AddTutionFee(1,38000)"
   ]
  },
  {
   "cell_type": "code",
   "execution_count": 196,
   "metadata": {},
   "outputs": [],
   "source": [
    "s1.AddTutionFee(2,36000)"
   ]
  },
  {
   "cell_type": "code",
   "execution_count": 197,
   "metadata": {},
   "outputs": [],
   "source": [
    "s1.AddHostelFee(1,4000)"
   ]
  },
  {
   "cell_type": "code",
   "execution_count": 198,
   "metadata": {},
   "outputs": [],
   "source": [
    "s1.AddHostelFee(2,2340)"
   ]
  },
  {
   "cell_type": "code",
   "execution_count": 199,
   "metadata": {},
   "outputs": [
    {
     "name": "stdout",
     "output_type": "stream",
     "text": [
      "(1, 38000)\n",
      "(2, 36000)\n",
      "(3, 'N/A')\n",
      "(4, 'N/A')\n",
      "(5, 'N/A')\n",
      "(6, 'N/A')\n",
      "(7, 'N/A')\n",
      "(8, 'N/A')\n"
     ]
    }
   ],
   "source": [
    "s1.TutionFeeRecord()"
   ]
  },
  {
   "cell_type": "code",
   "execution_count": 200,
   "metadata": {},
   "outputs": [],
   "source": [
    "s1.AddHostelFee(3,2350)"
   ]
  },
  {
   "cell_type": "code",
   "execution_count": 201,
   "metadata": {},
   "outputs": [
    {
     "name": "stdout",
     "output_type": "stream",
     "text": [
      "(1, 4000)\n",
      "(2, 2340)\n",
      "(3, 2350)\n",
      "(4, 'N/A')\n",
      "(5, 'N/A')\n",
      "(6, 'N/A')\n",
      "(7, 'N/A')\n",
      "(8, 'N/A')\n"
     ]
    }
   ],
   "source": [
    "s1.HostelFeeRecord()"
   ]
  },
  {
   "cell_type": "code",
   "execution_count": 202,
   "metadata": {},
   "outputs": [],
   "source": [
    "s1.AddTutionFee(3,34038)"
   ]
  },
  {
   "cell_type": "code",
   "execution_count": 203,
   "metadata": {},
   "outputs": [
    {
     "name": "stdout",
     "output_type": "stream",
     "text": [
      "Sem.No Tution  Hostel  GPA\n",
      "  1    38000   4000    N/A\n",
      "  2    36000   2340    N/A\n",
      "  3    34038   2350    N/A\n",
      "  4      N/A    N/A    N/A\n",
      "  5      N/A    N/A    N/A\n",
      "  6      N/A    N/A    N/A\n",
      "  7      N/A    N/A    N/A\n",
      "  8      N/A    N/A    N/A\n"
     ]
    }
   ],
   "source": [
    "s1.StudentRecord()"
   ]
  },
  {
   "cell_type": "code",
   "execution_count": 204,
   "metadata": {},
   "outputs": [
    {
     "name": "stdout",
     "output_type": "stream",
     "text": [
      "(1, 38000)\n",
      "(2, 36000)\n",
      "(3, 34038)\n",
      "(4, 'N/A')\n",
      "(5, 'N/A')\n",
      "(6, 'N/A')\n",
      "(7, 'N/A')\n",
      "(8, 'N/A')\n"
     ]
    }
   ],
   "source": [
    "s1.TutionFeeRecord()"
   ]
  },
  {
   "cell_type": "code",
   "execution_count": 205,
   "metadata": {},
   "outputs": [
    {
     "name": "stdout",
     "output_type": "stream",
     "text": [
      "Sem.No Tution  Hostel  GPA\n",
      "  1    38000   4000    N/A\n",
      "  2    36000   2340    N/A\n",
      "  3    34038   2350    N/A\n",
      "  4      N/A    N/A    N/A\n",
      "  5      N/A    N/A    N/A\n",
      "  6      N/A    N/A    N/A\n",
      "  7      N/A    N/A    N/A\n",
      "  8      N/A    N/A    N/A\n"
     ]
    }
   ],
   "source": [
    "s1.StudentRecord()"
   ]
  },
  {
   "cell_type": "code",
   "execution_count": 206,
   "metadata": {},
   "outputs": [],
   "source": [
    "s1.AddGPA(1,3.37)"
   ]
  },
  {
   "cell_type": "code",
   "execution_count": 207,
   "metadata": {},
   "outputs": [],
   "source": [
    "s1.AddGPA(2,3.35)"
   ]
  },
  {
   "cell_type": "code",
   "execution_count": 208,
   "metadata": {},
   "outputs": [],
   "source": [
    "s1.AddHostelFee(8,340)"
   ]
  },
  {
   "cell_type": "code",
   "execution_count": 209,
   "metadata": {},
   "outputs": [],
   "source": [
    "s1.AddGPA(3,4.488)"
   ]
  },
  {
   "cell_type": "code",
   "execution_count": 210,
   "metadata": {},
   "outputs": [
    {
     "name": "stdout",
     "output_type": "stream",
     "text": [
      "(1, 3.37)\n",
      "(2, 3.35)\n",
      "(3, 4.488)\n",
      "(4, 'N/A')\n",
      "(5, 'N/A')\n",
      "(6, 'N/A')\n",
      "(7, 'N/A')\n",
      "(8, 'N/A')\n"
     ]
    }
   ],
   "source": [
    "s1.GPARecord()"
   ]
  },
  {
   "cell_type": "code",
   "execution_count": 211,
   "metadata": {},
   "outputs": [
    {
     "name": "stdout",
     "output_type": "stream",
     "text": [
      "Sem.No Tution  Hostel  GPA\n",
      "  1    38000   4000   3.37\n",
      "  2    36000   2340   3.35\n",
      "  3    34038   2350  4.488\n",
      "  4      N/A    N/A    N/A\n",
      "  5      N/A    N/A    N/A\n",
      "  6      N/A    N/A    N/A\n",
      "  7      N/A    N/A    N/A\n",
      "  8      N/A    340    N/A\n"
     ]
    }
   ],
   "source": [
    "s1.StudentRecord()"
   ]
  },
  {
   "cell_type": "code",
   "execution_count": 212,
   "metadata": {},
   "outputs": [],
   "source": [
    "S2=stu()"
   ]
  },
  {
   "cell_type": "code",
   "execution_count": 213,
   "metadata": {},
   "outputs": [
    {
     "name": "stdout",
     "output_type": "stream",
     "text": [
      "Sem.No Tution  Hostel  GPA\n",
      "  1      N/A    N/A    N/A\n",
      "  2      N/A    N/A    N/A\n",
      "  3      N/A    N/A    N/A\n",
      "  4      N/A    N/A    N/A\n",
      "  5      N/A    N/A    N/A\n",
      "  6      N/A    N/A    N/A\n",
      "  7      N/A    N/A    N/A\n",
      "  8      N/A    N/A    N/A\n"
     ]
    }
   ],
   "source": [
    "S2.StudentRecord()"
   ]
  },
  {
   "cell_type": "code",
   "execution_count": 227,
   "metadata": {},
   "outputs": [],
   "source": [
    "a=Stack()"
   ]
  },
  {
   "cell_type": "code",
   "execution_count": 228,
   "metadata": {},
   "outputs": [],
   "source": [
    "a.push(5)"
   ]
  },
  {
   "cell_type": "code",
   "execution_count": null,
   "metadata": {},
   "outputs": [],
   "source": [
    "a.push(7)"
   ]
  }
 ],
 "metadata": {
  "kernelspec": {
   "display_name": "Python 3",
   "language": "python",
   "name": "python3"
  },
  "language_info": {
   "codemirror_mode": {
    "name": "ipython",
    "version": 3
   },
   "file_extension": ".py",
   "mimetype": "text/x-python",
   "name": "python",
   "nbconvert_exporter": "python",
   "pygments_lexer": "ipython3",
   "version": "3.7.3"
  }
 },
 "nbformat": 4,
 "nbformat_minor": 2
}
