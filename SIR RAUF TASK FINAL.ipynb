{
 "cells": [
  {
   "cell_type": "code",
   "execution_count": 18,
   "metadata": {},
   "outputs": [],
   "source": [
    "import pandas as pd\n",
    "import numpy as np\n",
    "import matplotlib.pyplot as plt\n",
    "%matplotlib inline"
   ]
  },
  {
   "cell_type": "code",
   "execution_count": 19,
   "metadata": {},
   "outputs": [],
   "source": [
    "df= pd.read_csv('performance.csv')"
   ]
  },
  {
   "cell_type": "code",
   "execution_count": 20,
   "metadata": {},
   "outputs": [
    {
     "data": {
      "text/html": [
       "<div>\n",
       "<style scoped>\n",
       "    .dataframe tbody tr th:only-of-type {\n",
       "        vertical-align: middle;\n",
       "    }\n",
       "\n",
       "    .dataframe tbody tr th {\n",
       "        vertical-align: top;\n",
       "    }\n",
       "\n",
       "    .dataframe thead th {\n",
       "        text-align: right;\n",
       "    }\n",
       "</style>\n",
       "<table border=\"1\" class=\"dataframe\">\n",
       "  <thead>\n",
       "    <tr style=\"text-align: right;\">\n",
       "      <th></th>\n",
       "      <th>Delivery Charges</th>\n",
       "    </tr>\n",
       "  </thead>\n",
       "  <tbody>\n",
       "    <tr>\n",
       "      <th>count</th>\n",
       "      <td>180.000000</td>\n",
       "    </tr>\n",
       "    <tr>\n",
       "      <th>mean</th>\n",
       "      <td>145.555556</td>\n",
       "    </tr>\n",
       "    <tr>\n",
       "      <th>std</th>\n",
       "      <td>37.105048</td>\n",
       "    </tr>\n",
       "    <tr>\n",
       "      <th>min</th>\n",
       "      <td>0.000000</td>\n",
       "    </tr>\n",
       "    <tr>\n",
       "      <th>25%</th>\n",
       "      <td>150.000000</td>\n",
       "    </tr>\n",
       "    <tr>\n",
       "      <th>50%</th>\n",
       "      <td>150.000000</td>\n",
       "    </tr>\n",
       "    <tr>\n",
       "      <th>75%</th>\n",
       "      <td>150.000000</td>\n",
       "    </tr>\n",
       "    <tr>\n",
       "      <th>max</th>\n",
       "      <td>180.000000</td>\n",
       "    </tr>\n",
       "  </tbody>\n",
       "</table>\n",
       "</div>"
      ],
      "text/plain": [
       "       Delivery Charges\n",
       "count        180.000000\n",
       "mean         145.555556\n",
       "std           37.105048\n",
       "min            0.000000\n",
       "25%          150.000000\n",
       "50%          150.000000\n",
       "75%          150.000000\n",
       "max          180.000000"
      ]
     },
     "execution_count": 20,
     "metadata": {},
     "output_type": "execute_result"
    }
   ],
   "source": [
    "df.describe()"
   ]
  },
  {
   "cell_type": "code",
   "execution_count": 21,
   "metadata": {},
   "outputs": [
    {
     "name": "stdout",
     "output_type": "stream",
     "text": [
      "<class 'pandas.core.frame.DataFrame'>\n",
      "RangeIndex: 180 entries, 0 to 179\n",
      "Data columns (total 7 columns):\n",
      " #   Column            Non-Null Count  Dtype \n",
      "---  ------            --------------  ----- \n",
      " 0   Province          180 non-null    object\n",
      " 1   City              180 non-null    object\n",
      " 2   Area              180 non-null    object\n",
      " 3   Company           180 non-null    object\n",
      " 4   Status            180 non-null    object\n",
      " 5   Delivery Time     180 non-null    object\n",
      " 6   Delivery Charges  180 non-null    int64 \n",
      "dtypes: int64(1), object(6)\n",
      "memory usage: 10.0+ KB\n"
     ]
    }
   ],
   "source": [
    "df.info()"
   ]
  },
  {
   "cell_type": "code",
   "execution_count": 22,
   "metadata": {},
   "outputs": [],
   "source": [
    "df['Province']= df['Province'].astype('category')\n",
    "df['City']= df['City'].astype('category')\n",
    "df['Area']= df['Area'].astype('category')\n",
    "df['Company']= df['Company'].astype('category')\n",
    "df['Status']= df['Status'].astype('category')"
   ]
  },
  {
   "cell_type": "code",
   "execution_count": 23,
   "metadata": {},
   "outputs": [
    {
     "name": "stdout",
     "output_type": "stream",
     "text": [
      "<class 'pandas.core.frame.DataFrame'>\n",
      "RangeIndex: 180 entries, 0 to 179\n",
      "Data columns (total 7 columns):\n",
      " #   Column            Non-Null Count  Dtype   \n",
      "---  ------            --------------  -----   \n",
      " 0   Province          180 non-null    category\n",
      " 1   City              180 non-null    category\n",
      " 2   Area              180 non-null    category\n",
      " 3   Company           180 non-null    category\n",
      " 4   Status            180 non-null    category\n",
      " 5   Delivery Time     180 non-null    object  \n",
      " 6   Delivery Charges  180 non-null    int64   \n",
      "dtypes: category(5), int64(1), object(1)\n",
      "memory usage: 7.4+ KB\n"
     ]
    }
   ],
   "source": [
    "df.info()"
   ]
  },
  {
   "cell_type": "code",
   "execution_count": 24,
   "metadata": {},
   "outputs": [],
   "source": [
    "import re\n",
    "Delivery_time= df['Delivery Time']\n",
    "li= list()\n",
    "for i in range(Delivery_time.size):\n",
    "    res= re.search(r'\\d*', Delivery_time[i])\n",
    "    li.append(int(res.group()))   "
   ]
  },
  {
   "cell_type": "code",
   "execution_count": 25,
   "metadata": {},
   "outputs": [],
   "source": [
    "df['Delivery Time']= li"
   ]
  },
  {
   "cell_type": "code",
   "execution_count": 26,
   "metadata": {},
   "outputs": [
    {
     "data": {
      "text/html": [
       "<div>\n",
       "<style scoped>\n",
       "    .dataframe tbody tr th:only-of-type {\n",
       "        vertical-align: middle;\n",
       "    }\n",
       "\n",
       "    .dataframe tbody tr th {\n",
       "        vertical-align: top;\n",
       "    }\n",
       "\n",
       "    .dataframe thead th {\n",
       "        text-align: right;\n",
       "    }\n",
       "</style>\n",
       "<table border=\"1\" class=\"dataframe\">\n",
       "  <thead>\n",
       "    <tr style=\"text-align: right;\">\n",
       "      <th></th>\n",
       "      <th>Province</th>\n",
       "      <th>City</th>\n",
       "      <th>Area</th>\n",
       "      <th>Company</th>\n",
       "      <th>Status</th>\n",
       "      <th>Delivery Time</th>\n",
       "      <th>Delivery Charges</th>\n",
       "    </tr>\n",
       "  </thead>\n",
       "  <tbody>\n",
       "    <tr>\n",
       "      <th>0</th>\n",
       "      <td>AJK</td>\n",
       "      <td>Muzzaffagarh</td>\n",
       "      <td>Main</td>\n",
       "      <td>BLUEX</td>\n",
       "      <td>Delivered</td>\n",
       "      <td>12</td>\n",
       "      <td>150</td>\n",
       "    </tr>\n",
       "    <tr>\n",
       "      <th>1</th>\n",
       "      <td>AJK</td>\n",
       "      <td>Muzafarabad</td>\n",
       "      <td>Main</td>\n",
       "      <td>TRAX</td>\n",
       "      <td>Delivered</td>\n",
       "      <td>3</td>\n",
       "      <td>150</td>\n",
       "    </tr>\n",
       "    <tr>\n",
       "      <th>2</th>\n",
       "      <td>AJK</td>\n",
       "      <td>Muzafarabad</td>\n",
       "      <td>Main</td>\n",
       "      <td>TRAX</td>\n",
       "      <td>Delivered</td>\n",
       "      <td>4</td>\n",
       "      <td>150</td>\n",
       "    </tr>\n",
       "    <tr>\n",
       "      <th>3</th>\n",
       "      <td>AJK</td>\n",
       "      <td>Muzzaffagarh</td>\n",
       "      <td>Main</td>\n",
       "      <td>TRAX</td>\n",
       "      <td>Returned Recieved</td>\n",
       "      <td>10</td>\n",
       "      <td>130</td>\n",
       "    </tr>\n",
       "    <tr>\n",
       "      <th>4</th>\n",
       "      <td>Balochistan</td>\n",
       "      <td>Dera Murad Jamal</td>\n",
       "      <td>Main</td>\n",
       "      <td>BLUEX</td>\n",
       "      <td>Delivered</td>\n",
       "      <td>6</td>\n",
       "      <td>150</td>\n",
       "    </tr>\n",
       "  </tbody>\n",
       "</table>\n",
       "</div>"
      ],
      "text/plain": [
       "      Province              City  Area Company             Status  \\\n",
       "0          AJK      Muzzaffagarh  Main   BLUEX          Delivered   \n",
       "1          AJK       Muzafarabad  Main    TRAX          Delivered   \n",
       "2          AJK       Muzafarabad  Main    TRAX          Delivered   \n",
       "3          AJK      Muzzaffagarh  Main    TRAX  Returned Recieved   \n",
       "4  Balochistan  Dera Murad Jamal  Main   BLUEX          Delivered   \n",
       "\n",
       "   Delivery Time  Delivery Charges  \n",
       "0             12               150  \n",
       "1              3               150  \n",
       "2              4               150  \n",
       "3             10               130  \n",
       "4              6               150  "
      ]
     },
     "execution_count": 26,
     "metadata": {},
     "output_type": "execute_result"
    }
   ],
   "source": [
    "df.head(5)"
   ]
  },
  {
   "cell_type": "code",
   "execution_count": 27,
   "metadata": {},
   "outputs": [
    {
     "data": {
      "text/plain": [
       "[AJK, Balochistan, Capital, KPK, Punjab, Sindh]\n",
       "Categories (6, object): [AJK, Balochistan, Capital, KPK, Punjab, Sindh]"
      ]
     },
     "execution_count": 27,
     "metadata": {},
     "output_type": "execute_result"
    }
   ],
   "source": [
    "Unique_provinces= df['Province'].unique()\n",
    "Unique_provinces"
   ]
  },
  {
   "cell_type": "code",
   "execution_count": 28,
   "metadata": {},
   "outputs": [
    {
     "data": {
      "text/plain": [
       "[Muzzaffagarh, Muzafarabad, Dera Murad Jamal, Hub Chowki, Quetta, ..., Larkana, Makli Thatta, Sadiq Abad, Sanghar, Tando Allahyar]\n",
       "Length: 78\n",
       "Categories (78, object): [Muzzaffagarh, Muzafarabad, Dera Murad Jamal, Hub Chowki, ..., Makli Thatta, Sadiq Abad, Sanghar, Tando Allahyar]"
      ]
     },
     "execution_count": 28,
     "metadata": {},
     "output_type": "execute_result"
    }
   ],
   "source": [
    "Unique_cities= df['City'].unique()\n",
    "Unique_cities"
   ]
  },
  {
   "cell_type": "code",
   "execution_count": 29,
   "metadata": {},
   "outputs": [],
   "source": [
    "group_by_province= df.groupby('Province')"
   ]
  },
  {
   "cell_type": "code",
   "execution_count": 30,
   "metadata": {},
   "outputs": [],
   "source": [
    "group_by_status= df.groupby('Status')"
   ]
  },
  {
   "cell_type": "code",
   "execution_count": 32,
   "metadata": {},
   "outputs": [],
   "source": [
    "group_by_area= df.groupby('Area')"
   ]
  },
  {
   "cell_type": "code",
   "execution_count": 33,
   "metadata": {},
   "outputs": [],
   "source": [
    "dfdelivered= group_by_status.get_group('Delivered')"
   ]
  },
  {
   "cell_type": "code",
   "execution_count": 34,
   "metadata": {},
   "outputs": [],
   "source": [
    "dfreturned= group_by_status.get_group('Returned Recieved')"
   ]
  },
  {
   "cell_type": "code",
   "execution_count": 35,
   "metadata": {},
   "outputs": [],
   "source": [
    "group_by_company= df.groupby('Company')"
   ]
  },
  {
   "cell_type": "code",
   "execution_count": 36,
   "metadata": {},
   "outputs": [],
   "source": [
    "dfbluex= group_by_company.get_group('BLUEX')"
   ]
  },
  {
   "cell_type": "code",
   "execution_count": 37,
   "metadata": {},
   "outputs": [],
   "source": [
    "dftrax= group_by_company.get_group('TRAX')"
   ]
  },
  {
   "cell_type": "code",
   "execution_count": 38,
   "metadata": {},
   "outputs": [],
   "source": [
    "group_by_bluexspecificstatus=dfbluex.groupby('Status')\n"
   ]
  },
  {
   "cell_type": "code",
   "execution_count": 39,
   "metadata": {},
   "outputs": [],
   "source": [
    "dfbluexd=group_by_bluexspecificstatus.get_group('Delivered')\n",
    "dfbluexr=group_by_bluexspecificstatus.get_group('Returned Recieved')"
   ]
  },
  {
   "cell_type": "code",
   "execution_count": 40,
   "metadata": {},
   "outputs": [],
   "source": [
    "group_by_traxspecificstatus=dftrax.groupby('Status')"
   ]
  },
  {
   "cell_type": "code",
   "execution_count": 41,
   "metadata": {},
   "outputs": [],
   "source": [
    "dftraxd=group_by_traxspecificstatus.get_group('Delivered')\n",
    "dftraxr=group_by_traxspecificstatus.get_group('Returned Recieved')"
   ]
  },
  {
   "cell_type": "code",
   "execution_count": 42,
   "metadata": {},
   "outputs": [
    {
     "data": {
      "text/html": [
       "<div>\n",
       "<style scoped>\n",
       "    .dataframe tbody tr th:only-of-type {\n",
       "        vertical-align: middle;\n",
       "    }\n",
       "\n",
       "    .dataframe tbody tr th {\n",
       "        vertical-align: top;\n",
       "    }\n",
       "\n",
       "    .dataframe thead th {\n",
       "        text-align: right;\n",
       "    }\n",
       "</style>\n",
       "<table border=\"1\" class=\"dataframe\">\n",
       "  <thead>\n",
       "    <tr style=\"text-align: right;\">\n",
       "      <th></th>\n",
       "      <th>Province</th>\n",
       "      <th>City</th>\n",
       "      <th>Area</th>\n",
       "      <th>Company</th>\n",
       "      <th>Status</th>\n",
       "      <th>Delivery Time</th>\n",
       "      <th>Delivery Charges</th>\n",
       "    </tr>\n",
       "  </thead>\n",
       "  <tbody>\n",
       "    <tr>\n",
       "      <th>0</th>\n",
       "      <td>AJK</td>\n",
       "      <td>Muzzaffagarh</td>\n",
       "      <td>Main</td>\n",
       "      <td>BLUEX</td>\n",
       "      <td>Delivered</td>\n",
       "      <td>12</td>\n",
       "      <td>150</td>\n",
       "    </tr>\n",
       "    <tr>\n",
       "      <th>1</th>\n",
       "      <td>AJK</td>\n",
       "      <td>Muzafarabad</td>\n",
       "      <td>Main</td>\n",
       "      <td>TRAX</td>\n",
       "      <td>Delivered</td>\n",
       "      <td>3</td>\n",
       "      <td>150</td>\n",
       "    </tr>\n",
       "    <tr>\n",
       "      <th>2</th>\n",
       "      <td>AJK</td>\n",
       "      <td>Muzafarabad</td>\n",
       "      <td>Main</td>\n",
       "      <td>TRAX</td>\n",
       "      <td>Delivered</td>\n",
       "      <td>4</td>\n",
       "      <td>150</td>\n",
       "    </tr>\n",
       "    <tr>\n",
       "      <th>4</th>\n",
       "      <td>Balochistan</td>\n",
       "      <td>Dera Murad Jamal</td>\n",
       "      <td>Main</td>\n",
       "      <td>BLUEX</td>\n",
       "      <td>Delivered</td>\n",
       "      <td>6</td>\n",
       "      <td>150</td>\n",
       "    </tr>\n",
       "    <tr>\n",
       "      <th>5</th>\n",
       "      <td>Balochistan</td>\n",
       "      <td>Hub Chowki</td>\n",
       "      <td>Main</td>\n",
       "      <td>BLUEX</td>\n",
       "      <td>Delivered</td>\n",
       "      <td>7</td>\n",
       "      <td>150</td>\n",
       "    </tr>\n",
       "  </tbody>\n",
       "</table>\n",
       "</div>"
      ],
      "text/plain": [
       "      Province              City  Area Company     Status  Delivery Time  \\\n",
       "0          AJK      Muzzaffagarh  Main   BLUEX  Delivered             12   \n",
       "1          AJK       Muzafarabad  Main    TRAX  Delivered              3   \n",
       "2          AJK       Muzafarabad  Main    TRAX  Delivered              4   \n",
       "4  Balochistan  Dera Murad Jamal  Main   BLUEX  Delivered              6   \n",
       "5  Balochistan        Hub Chowki  Main   BLUEX  Delivered              7   \n",
       "\n",
       "   Delivery Charges  \n",
       "0               150  \n",
       "1               150  \n",
       "2               150  \n",
       "4               150  \n",
       "5               150  "
      ]
     },
     "execution_count": 42,
     "metadata": {},
     "output_type": "execute_result"
    }
   ],
   "source": [
    "status_delivered= group_by_status.get_group('Delivered')\n",
    "status_delivered.head()"
   ]
  },
  {
   "cell_type": "code",
   "execution_count": 43,
   "metadata": {},
   "outputs": [],
   "source": [
    "group_by_cities=df.groupby('City')"
   ]
  },
  {
   "cell_type": "code",
   "execution_count": 44,
   "metadata": {},
   "outputs": [],
   "source": [
    "df2= df.groupby(['Company','Status']).size()"
   ]
  },
  {
   "cell_type": "code",
   "execution_count": 45,
   "metadata": {},
   "outputs": [],
   "source": [
    "df2= df2.unstack()"
   ]
  },
  {
   "cell_type": "code",
   "execution_count": 46,
   "metadata": {},
   "outputs": [
    {
     "data": {
      "text/plain": [
       "<matplotlib.axes._subplots.AxesSubplot at 0x1fce92f1f88>"
      ]
     },
     "execution_count": 46,
     "metadata": {},
     "output_type": "execute_result"
    },
    {
     "data": {
      "image/png": "[encoded data removed]",
      "text/plain": [
       "<Figure size 432x288 with 1 Axes>"
      ]
     },
     "metadata": {
      "needs_background": "light"
     },
     "output_type": "display_data"
    }
   ],
   "source": [
    "df2.plot(kind='bar')"
   ]
  },
  {
   "cell_type": "code",
   "execution_count": 35,
   "metadata": {},
   "outputs": [],
   "source": [
    "def visualize_group(df, column1, column2):\n",
    "    df= df.groupby([column1,column2]).size()\n",
    "    df= df.unstack()\n",
    "    df.plot(kind='bar')"
   ]
  },
  {
   "cell_type": "code",
   "execution_count": 20,
   "metadata": {},
   "outputs": [
    {
     "data": {
      "image/png": "[encoded data removed]",
      "text/plain": [
       "<Figure size 432x288 with 1 Axes>"
      ]
     },
     "metadata": {
      "needs_background": "light"
     },
     "output_type": "display_data"
    }
   ],
   "source": [
    "visualize_group(df, 'Company', 'Status')"
   ]
  },
  {
   "cell_type": "code",
   "execution_count": 47,
   "metadata": {},
   "outputs": [],
   "source": [
    "dfAJK= group_by_province.get_group('AJK')\n",
    "dfBalochistan= group_by_province.get_group('Balochistan')\n",
    "dfCapital= group_by_province.get_group('Capital')\n",
    "dfKPK= group_by_province.get_group('KPK')\n",
    "dfPunjab= group_by_province.get_group('Punjab')\n",
    "dfSindh= group_by_province.get_group('Sindh')"
   ]
  },
  {
   "cell_type": "code",
   "execution_count": 38,
   "metadata": {},
   "outputs": [
    {
     "name": "stdout",
     "output_type": "stream",
     "text": [
      "Province AJK\n"
     ]
    },
    {
     "data": {
      "image/png": "[encoded data removed]",
      "text/plain": [
       "<Figure size 432x288 with 1 Axes>"
      ]
     },
     "metadata": {
      "needs_background": "light"
     },
     "output_type": "display_data"
    }
   ],
   "source": [
    "print('Province AJK')\n",
    "visualize_group(dfAJK, 'Company', 'Status')"
   ]
  },
  {
   "cell_type": "code",
   "execution_count": 39,
   "metadata": {},
   "outputs": [
    {
     "name": "stdout",
     "output_type": "stream",
     "text": [
      "Province Balochistan\n"
     ]
    },
    {
     "data": {
      "image/png": "[encoded data removed]",
      "text/plain": [
       "<Figure size 432x288 with 1 Axes>"
      ]
     },
     "metadata": {
      "needs_background": "light"
     },
     "output_type": "display_data"
    }
   ],
   "source": [
    "print('Province Balochistan')\n",
    "visualize_group(dfBalochistan, 'Company', 'Status')"
   ]
  },
  {
   "cell_type": "code",
   "execution_count": 40,
   "metadata": {},
   "outputs": [
    {
     "name": "stdout",
     "output_type": "stream",
     "text": [
      "Province Capital\n"
     ]
    },
    {
     "data": {
      "image/png": "[encoded data removed]",
      "text/plain": [
       "<Figure size 432x288 with 1 Axes>"
      ]
     },
     "metadata": {
      "needs_background": "light"
     },
     "output_type": "display_data"
    }
   ],
   "source": [
    "print('Province Capital')\n",
    "visualize_group(dfCapital, 'Company', 'Status')"
   ]
  },
  {
   "cell_type": "code",
   "execution_count": 41,
   "metadata": {},
   "outputs": [
    {
     "name": "stdout",
     "output_type": "stream",
     "text": [
      "Province KPK\n"
     ]
    },
    {
     "data": {
      "image/png": "[encoded data removed]",
      "text/plain": [
       "<Figure size 432x288 with 1 Axes>"
      ]
     },
     "metadata": {
      "needs_background": "light"
     },
     "output_type": "display_data"
    }
   ],
   "source": [
    "print('Province KPK')\n",
    "visualize_group(dfKPK, 'Company', 'Status')"
   ]
  },
  {
   "cell_type": "code",
   "execution_count": 42,
   "metadata": {},
   "outputs": [
    {
     "name": "stdout",
     "output_type": "stream",
     "text": [
      "Province Punjab\n"
     ]
    },
    {
     "data": {
      "image/png": "[encoded data removed]",
      "text/plain": [
       "<Figure size 432x288 with 1 Axes>"
      ]
     },
     "metadata": {
      "needs_background": "light"
     },
     "output_type": "display_data"
    }
   ],
   "source": [
    "print('Province Punjab')\n",
    "visualize_group(dfPunjab, 'Company', 'Status')"
   ]
  },
  {
   "cell_type": "code",
   "execution_count": 88,
   "metadata": {},
   "outputs": [
    {
     "name": "stdout",
     "output_type": "stream",
     "text": [
      "Province Sindh\n"
     ]
    },
    {
     "data": {
      "image/png": "[encoded data removed]",
      "text/plain": [
       "<Figure size 432x288 with 1 Axes>"
      ]
     },
     "metadata": {
      "needs_background": "light"
     },
     "output_type": "display_data"
    }
   ],
   "source": [
    "print('Province Sindh')\n",
    "visualize_group(dfSindh, 'Company', 'Status')"
   ]
  },
  {
   "cell_type": "code",
   "execution_count": null,
   "metadata": {},
   "outputs": [],
   "source": [
    "#df\n",
    "#dfbluex\n",
    "#dftrax\n",
    "#dfdelivered\n",
    "#dfreturned\n",
    "#dfbluexd\n",
    "#dfbluexr\n",
    "#dftraxd\n",
    "#dftraxr"
   ]
  },
  {
   "cell_type": "code",
   "execution_count": 48,
   "metadata": {},
   "outputs": [
    {
     "data": {
      "text/html": [
       "<div>\n",
       "<style scoped>\n",
       "    .dataframe tbody tr th:only-of-type {\n",
       "        vertical-align: middle;\n",
       "    }\n",
       "\n",
       "    .dataframe tbody tr th {\n",
       "        vertical-align: top;\n",
       "    }\n",
       "\n",
       "    .dataframe thead th {\n",
       "        text-align: right;\n",
       "    }\n",
       "</style>\n",
       "<table border=\"1\" class=\"dataframe\">\n",
       "  <thead>\n",
       "    <tr style=\"text-align: right;\">\n",
       "      <th></th>\n",
       "      <th>Delivery Time</th>\n",
       "      <th>Delivery Charges</th>\n",
       "    </tr>\n",
       "  </thead>\n",
       "  <tbody>\n",
       "    <tr>\n",
       "      <th>sum</th>\n",
       "      <td>680.000000</td>\n",
       "      <td>14430.000000</td>\n",
       "    </tr>\n",
       "    <tr>\n",
       "      <th>min</th>\n",
       "      <td>1.000000</td>\n",
       "      <td>150.000000</td>\n",
       "    </tr>\n",
       "    <tr>\n",
       "      <th>max</th>\n",
       "      <td>16.000000</td>\n",
       "      <td>180.000000</td>\n",
       "    </tr>\n",
       "    <tr>\n",
       "      <th>mean</th>\n",
       "      <td>7.472527</td>\n",
       "      <td>158.571429</td>\n",
       "    </tr>\n",
       "  </tbody>\n",
       "</table>\n",
       "</div>"
      ],
      "text/plain": [
       "      Delivery Time  Delivery Charges\n",
       "sum      680.000000      14430.000000\n",
       "min        1.000000        150.000000\n",
       "max       16.000000        180.000000\n",
       "mean       7.472527        158.571429"
      ]
     },
     "execution_count": 48,
     "metadata": {},
     "output_type": "execute_result"
    }
   ],
   "source": [
    "dfbluex[['Delivery Time', 'Delivery Charges']].agg([sum, min, max,np.mean])"
   ]
  },
  {
   "cell_type": "code",
   "execution_count": 49,
   "metadata": {},
   "outputs": [
    {
     "data": {
      "text/html": [
       "<div>\n",
       "<style scoped>\n",
       "    .dataframe tbody tr th:only-of-type {\n",
       "        vertical-align: middle;\n",
       "    }\n",
       "\n",
       "    .dataframe tbody tr th {\n",
       "        vertical-align: top;\n",
       "    }\n",
       "\n",
       "    .dataframe thead th {\n",
       "        text-align: right;\n",
       "    }\n",
       "</style>\n",
       "<table border=\"1\" class=\"dataframe\">\n",
       "  <thead>\n",
       "    <tr style=\"text-align: right;\">\n",
       "      <th></th>\n",
       "      <th>Delivery Time</th>\n",
       "      <th>Delivery Charges</th>\n",
       "    </tr>\n",
       "  </thead>\n",
       "  <tbody>\n",
       "    <tr>\n",
       "      <th>sum</th>\n",
       "      <td>442.000000</td>\n",
       "      <td>11770.000000</td>\n",
       "    </tr>\n",
       "    <tr>\n",
       "      <th>min</th>\n",
       "      <td>1.000000</td>\n",
       "      <td>0.000000</td>\n",
       "    </tr>\n",
       "    <tr>\n",
       "      <th>max</th>\n",
       "      <td>14.000000</td>\n",
       "      <td>150.000000</td>\n",
       "    </tr>\n",
       "    <tr>\n",
       "      <th>mean</th>\n",
       "      <td>4.966292</td>\n",
       "      <td>132.247191</td>\n",
       "    </tr>\n",
       "  </tbody>\n",
       "</table>\n",
       "</div>"
      ],
      "text/plain": [
       "      Delivery Time  Delivery Charges\n",
       "sum      442.000000      11770.000000\n",
       "min        1.000000          0.000000\n",
       "max       14.000000        150.000000\n",
       "mean       4.966292        132.247191"
      ]
     },
     "execution_count": 49,
     "metadata": {},
     "output_type": "execute_result"
    }
   ],
   "source": [
    "dftrax[['Delivery Time', 'Delivery Charges']].agg([sum, min, max,np.mean])"
   ]
  },
  {
   "cell_type": "code",
   "execution_count": 50,
   "metadata": {},
   "outputs": [
    {
     "data": {
      "text/html": [
       "<div>\n",
       "<style scoped>\n",
       "    .dataframe tbody tr th:only-of-type {\n",
       "        vertical-align: middle;\n",
       "    }\n",
       "\n",
       "    .dataframe tbody tr th {\n",
       "        vertical-align: top;\n",
       "    }\n",
       "\n",
       "    .dataframe thead tr th {\n",
       "        text-align: left;\n",
       "    }\n",
       "\n",
       "    .dataframe thead tr:last-of-type th {\n",
       "        text-align: right;\n",
       "    }\n",
       "</style>\n",
       "<table border=\"1\" class=\"dataframe\">\n",
       "  <thead>\n",
       "    <tr>\n",
       "      <th></th>\n",
       "      <th colspan=\"4\" halign=\"left\">Delivery Time</th>\n",
       "      <th colspan=\"4\" halign=\"left\">Delivery Charges</th>\n",
       "    </tr>\n",
       "    <tr>\n",
       "      <th></th>\n",
       "      <th>sum</th>\n",
       "      <th>min</th>\n",
       "      <th>max</th>\n",
       "      <th>mean</th>\n",
       "      <th>sum</th>\n",
       "      <th>min</th>\n",
       "      <th>max</th>\n",
       "      <th>mean</th>\n",
       "    </tr>\n",
       "    <tr>\n",
       "      <th>Area</th>\n",
       "      <th></th>\n",
       "      <th></th>\n",
       "      <th></th>\n",
       "      <th></th>\n",
       "      <th></th>\n",
       "      <th></th>\n",
       "      <th></th>\n",
       "      <th></th>\n",
       "    </tr>\n",
       "  </thead>\n",
       "  <tbody>\n",
       "    <tr>\n",
       "      <th>Main</th>\n",
       "      <td>972</td>\n",
       "      <td>1</td>\n",
       "      <td>16</td>\n",
       "      <td>6.037267</td>\n",
       "      <td>23170</td>\n",
       "      <td>0</td>\n",
       "      <td>180</td>\n",
       "      <td>143.913043</td>\n",
       "    </tr>\n",
       "    <tr>\n",
       "      <th>Tehsil</th>\n",
       "      <td>83</td>\n",
       "      <td>3</td>\n",
       "      <td>14</td>\n",
       "      <td>7.545455</td>\n",
       "      <td>1770</td>\n",
       "      <td>150</td>\n",
       "      <td>180</td>\n",
       "      <td>160.909091</td>\n",
       "    </tr>\n",
       "    <tr>\n",
       "      <th>Village</th>\n",
       "      <td>67</td>\n",
       "      <td>3</td>\n",
       "      <td>15</td>\n",
       "      <td>8.375000</td>\n",
       "      <td>1260</td>\n",
       "      <td>150</td>\n",
       "      <td>180</td>\n",
       "      <td>157.500000</td>\n",
       "    </tr>\n",
       "  </tbody>\n",
       "</table>\n",
       "</div>"
      ],
      "text/plain": [
       "        Delivery Time                   Delivery Charges                      \n",
       "                  sum min max      mean              sum  min  max        mean\n",
       "Area                                                                          \n",
       "Main              972   1  16  6.037267            23170    0  180  143.913043\n",
       "Tehsil             83   3  14  7.545455             1770  150  180  160.909091\n",
       "Village            67   3  15  8.375000             1260  150  180  157.500000"
      ]
     },
     "execution_count": 50,
     "metadata": {},
     "output_type": "execute_result"
    }
   ],
   "source": [
    "group_by_area[['Delivery Time', 'Delivery Charges']].agg([sum, min, max,np.mean])"
   ]
  },
  {
   "cell_type": "code",
   "execution_count": 51,
   "metadata": {},
   "outputs": [],
   "source": [
    "group_by_area_bluex=dfbluex.groupby('Area')\n",
    "group_by_area_trax=dftrax.groupby('Area')"
   ]
  },
  {
   "cell_type": "code",
   "execution_count": 52,
   "metadata": {},
   "outputs": [
    {
     "data": {
      "text/html": [
       "<div>\n",
       "<style scoped>\n",
       "    .dataframe tbody tr th:only-of-type {\n",
       "        vertical-align: middle;\n",
       "    }\n",
       "\n",
       "    .dataframe tbody tr th {\n",
       "        vertical-align: top;\n",
       "    }\n",
       "\n",
       "    .dataframe thead tr th {\n",
       "        text-align: left;\n",
       "    }\n",
       "\n",
       "    .dataframe thead tr:last-of-type th {\n",
       "        text-align: right;\n",
       "    }\n",
       "</style>\n",
       "<table border=\"1\" class=\"dataframe\">\n",
       "  <thead>\n",
       "    <tr>\n",
       "      <th></th>\n",
       "      <th colspan=\"3\" halign=\"left\">Delivery Time</th>\n",
       "      <th colspan=\"3\" halign=\"left\">Delivery Charges</th>\n",
       "    </tr>\n",
       "    <tr>\n",
       "      <th></th>\n",
       "      <th>min</th>\n",
       "      <th>max</th>\n",
       "      <th>mean</th>\n",
       "      <th>min</th>\n",
       "      <th>max</th>\n",
       "      <th>mean</th>\n",
       "    </tr>\n",
       "    <tr>\n",
       "      <th>Area</th>\n",
       "      <th></th>\n",
       "      <th></th>\n",
       "      <th></th>\n",
       "      <th></th>\n",
       "      <th></th>\n",
       "      <th></th>\n",
       "    </tr>\n",
       "  </thead>\n",
       "  <tbody>\n",
       "    <tr>\n",
       "      <th>Main</th>\n",
       "      <td>1</td>\n",
       "      <td>16</td>\n",
       "      <td>7.177215</td>\n",
       "      <td>150</td>\n",
       "      <td>180</td>\n",
       "      <td>157.594937</td>\n",
       "    </tr>\n",
       "    <tr>\n",
       "      <th>Tehsil</th>\n",
       "      <td>6</td>\n",
       "      <td>14</td>\n",
       "      <td>9.666667</td>\n",
       "      <td>150</td>\n",
       "      <td>180</td>\n",
       "      <td>170.000000</td>\n",
       "    </tr>\n",
       "    <tr>\n",
       "      <th>Village</th>\n",
       "      <td>3</td>\n",
       "      <td>15</td>\n",
       "      <td>9.166667</td>\n",
       "      <td>150</td>\n",
       "      <td>180</td>\n",
       "      <td>160.000000</td>\n",
       "    </tr>\n",
       "  </tbody>\n",
       "</table>\n",
       "</div>"
      ],
      "text/plain": [
       "        Delivery Time               Delivery Charges                 \n",
       "                  min max      mean              min  max        mean\n",
       "Area                                                                 \n",
       "Main                1  16  7.177215              150  180  157.594937\n",
       "Tehsil              6  14  9.666667              150  180  170.000000\n",
       "Village             3  15  9.166667              150  180  160.000000"
      ]
     },
     "execution_count": 52,
     "metadata": {},
     "output_type": "execute_result"
    }
   ],
   "source": [
    "group_by_area_bluex[['Delivery Time', 'Delivery Charges']].agg([min, max,np.mean])"
   ]
  },
  {
   "cell_type": "code",
   "execution_count": 53,
   "metadata": {},
   "outputs": [
    {
     "data": {
      "text/html": [
       "<div>\n",
       "<style scoped>\n",
       "    .dataframe tbody tr th:only-of-type {\n",
       "        vertical-align: middle;\n",
       "    }\n",
       "\n",
       "    .dataframe tbody tr th {\n",
       "        vertical-align: top;\n",
       "    }\n",
       "\n",
       "    .dataframe thead tr th {\n",
       "        text-align: left;\n",
       "    }\n",
       "\n",
       "    .dataframe thead tr:last-of-type th {\n",
       "        text-align: right;\n",
       "    }\n",
       "</style>\n",
       "<table border=\"1\" class=\"dataframe\">\n",
       "  <thead>\n",
       "    <tr>\n",
       "      <th></th>\n",
       "      <th colspan=\"3\" halign=\"left\">Delivery Time</th>\n",
       "      <th colspan=\"3\" halign=\"left\">Delivery Charges</th>\n",
       "    </tr>\n",
       "    <tr>\n",
       "      <th></th>\n",
       "      <th>min</th>\n",
       "      <th>max</th>\n",
       "      <th>mean</th>\n",
       "      <th>min</th>\n",
       "      <th>max</th>\n",
       "      <th>mean</th>\n",
       "    </tr>\n",
       "    <tr>\n",
       "      <th>Area</th>\n",
       "      <th></th>\n",
       "      <th></th>\n",
       "      <th></th>\n",
       "      <th></th>\n",
       "      <th></th>\n",
       "      <th></th>\n",
       "    </tr>\n",
       "  </thead>\n",
       "  <tbody>\n",
       "    <tr>\n",
       "      <th>Main</th>\n",
       "      <td>1</td>\n",
       "      <td>14</td>\n",
       "      <td>4.939024</td>\n",
       "      <td>0</td>\n",
       "      <td>150</td>\n",
       "      <td>130.731707</td>\n",
       "    </tr>\n",
       "    <tr>\n",
       "      <th>Tehsil</th>\n",
       "      <td>3</td>\n",
       "      <td>7</td>\n",
       "      <td>5.000000</td>\n",
       "      <td>150</td>\n",
       "      <td>150</td>\n",
       "      <td>150.000000</td>\n",
       "    </tr>\n",
       "    <tr>\n",
       "      <th>Village</th>\n",
       "      <td>3</td>\n",
       "      <td>9</td>\n",
       "      <td>6.000000</td>\n",
       "      <td>150</td>\n",
       "      <td>150</td>\n",
       "      <td>150.000000</td>\n",
       "    </tr>\n",
       "  </tbody>\n",
       "</table>\n",
       "</div>"
      ],
      "text/plain": [
       "        Delivery Time               Delivery Charges                 \n",
       "                  min max      mean              min  max        mean\n",
       "Area                                                                 \n",
       "Main                1  14  4.939024                0  150  130.731707\n",
       "Tehsil              3   7  5.000000              150  150  150.000000\n",
       "Village             3   9  6.000000              150  150  150.000000"
      ]
     },
     "execution_count": 53,
     "metadata": {},
     "output_type": "execute_result"
    }
   ],
   "source": [
    "group_by_area_trax[['Delivery Time', 'Delivery Charges']].agg([min, max,np.mean])"
   ]
  },
  {
   "cell_type": "code",
   "execution_count": 54,
   "metadata": {},
   "outputs": [
    {
     "data": {
      "text/html": [
       "<div>\n",
       "<style scoped>\n",
       "    .dataframe tbody tr th:only-of-type {\n",
       "        vertical-align: middle;\n",
       "    }\n",
       "\n",
       "    .dataframe tbody tr th {\n",
       "        vertical-align: top;\n",
       "    }\n",
       "\n",
       "    .dataframe thead tr th {\n",
       "        text-align: left;\n",
       "    }\n",
       "\n",
       "    .dataframe thead tr:last-of-type th {\n",
       "        text-align: right;\n",
       "    }\n",
       "</style>\n",
       "<table border=\"1\" class=\"dataframe\">\n",
       "  <thead>\n",
       "    <tr>\n",
       "      <th></th>\n",
       "      <th colspan=\"3\" halign=\"left\">Delivery Charges</th>\n",
       "    </tr>\n",
       "    <tr>\n",
       "      <th></th>\n",
       "      <th>min</th>\n",
       "      <th>max</th>\n",
       "      <th>mean</th>\n",
       "    </tr>\n",
       "    <tr>\n",
       "      <th>Area</th>\n",
       "      <th></th>\n",
       "      <th></th>\n",
       "      <th></th>\n",
       "    </tr>\n",
       "  </thead>\n",
       "  <tbody>\n",
       "    <tr>\n",
       "      <th>Main</th>\n",
       "      <td>150</td>\n",
       "      <td>180</td>\n",
       "      <td>157.594937</td>\n",
       "    </tr>\n",
       "    <tr>\n",
       "      <th>Tehsil</th>\n",
       "      <td>150</td>\n",
       "      <td>180</td>\n",
       "      <td>170.000000</td>\n",
       "    </tr>\n",
       "    <tr>\n",
       "      <th>Village</th>\n",
       "      <td>150</td>\n",
       "      <td>180</td>\n",
       "      <td>160.000000</td>\n",
       "    </tr>\n",
       "  </tbody>\n",
       "</table>\n",
       "</div>"
      ],
      "text/plain": [
       "        Delivery Charges                 \n",
       "                     min  max        mean\n",
       "Area                                     \n",
       "Main                 150  180  157.594937\n",
       "Tehsil               150  180  170.000000\n",
       "Village              150  180  160.000000"
      ]
     },
     "execution_count": 54,
     "metadata": {},
     "output_type": "execute_result"
    }
   ],
   "source": [
    "group_by_area_bluex[['Delivery Charges']].agg([min, max,np.mean])"
   ]
  },
  {
   "cell_type": "code",
   "execution_count": 55,
   "metadata": {},
   "outputs": [
    {
     "data": {
      "text/html": [
       "<div>\n",
       "<style scoped>\n",
       "    .dataframe tbody tr th:only-of-type {\n",
       "        vertical-align: middle;\n",
       "    }\n",
       "\n",
       "    .dataframe tbody tr th {\n",
       "        vertical-align: top;\n",
       "    }\n",
       "\n",
       "    .dataframe thead tr th {\n",
       "        text-align: left;\n",
       "    }\n",
       "\n",
       "    .dataframe thead tr:last-of-type th {\n",
       "        text-align: right;\n",
       "    }\n",
       "</style>\n",
       "<table border=\"1\" class=\"dataframe\">\n",
       "  <thead>\n",
       "    <tr>\n",
       "      <th></th>\n",
       "      <th colspan=\"3\" halign=\"left\">Delivery Charges</th>\n",
       "    </tr>\n",
       "    <tr>\n",
       "      <th></th>\n",
       "      <th>min</th>\n",
       "      <th>max</th>\n",
       "      <th>mean</th>\n",
       "    </tr>\n",
       "    <tr>\n",
       "      <th>Area</th>\n",
       "      <th></th>\n",
       "      <th></th>\n",
       "      <th></th>\n",
       "    </tr>\n",
       "  </thead>\n",
       "  <tbody>\n",
       "    <tr>\n",
       "      <th>Main</th>\n",
       "      <td>0</td>\n",
       "      <td>150</td>\n",
       "      <td>130.731707</td>\n",
       "    </tr>\n",
       "    <tr>\n",
       "      <th>Tehsil</th>\n",
       "      <td>150</td>\n",
       "      <td>150</td>\n",
       "      <td>150.000000</td>\n",
       "    </tr>\n",
       "    <tr>\n",
       "      <th>Village</th>\n",
       "      <td>150</td>\n",
       "      <td>150</td>\n",
       "      <td>150.000000</td>\n",
       "    </tr>\n",
       "  </tbody>\n",
       "</table>\n",
       "</div>"
      ],
      "text/plain": [
       "        Delivery Charges                 \n",
       "                     min  max        mean\n",
       "Area                                     \n",
       "Main                   0  150  130.731707\n",
       "Tehsil               150  150  150.000000\n",
       "Village              150  150  150.000000"
      ]
     },
     "execution_count": 55,
     "metadata": {},
     "output_type": "execute_result"
    }
   ],
   "source": [
    "group_by_area_trax[['Delivery Charges']].agg([min, max,np.mean])"
   ]
  },
  {
   "cell_type": "code",
   "execution_count": 120,
   "metadata": {},
   "outputs": [
    {
     "data": {
      "text/plain": [
       "24"
      ]
     },
     "execution_count": 120,
     "metadata": {},
     "output_type": "execute_result"
    }
   ],
   "source": [
    "def visualize_city(df, city_name, column1, column2):\n",
    "    unique_cities= df['City'].unique()\n",
    "    group_by_city= df.groupby('City')\n",
    "    try:\n",
    "        dfcity_selected= group_by_city.get_group(city_name)\n",
    "        dfcity_selected= dfcity_selected.groupby([column1,column2]).size()\n",
    "        dfcity_selected= dfcity_selected.unstack()\n",
    "        return True\n",
    "    except Exception as e:\n",
    "        return False\n",
    "unique_cities= df['City'].unique() #it will generate the list of all unique cities\n",
    "bluex_cities=list() #it will only contain cities in which Bluex is delivering items\n",
    "trax_cities=list()  #it will only contain cities in which trax is delivering items\n",
    "for city in unique_cities: #looping through the unique cities list\n",
    "    if visualize_city(dfbluex, city, 'Delivery Time', 'Delivery Charges'): #Muzzaffagarh return True\n",
    "        bluex_cities.append(city) #Muzzaffagarh will be added in bluex_cities list\n",
    "    elif visualize_city(dftrax, city, 'Delivery Time', 'Delivery Charges'): #Muzafarabad return True\n",
    "        trax_cities.append(city) #Muzafarabad will be added in trax_cities\n",
    "#print(bluex_cities, sep=',')\n",
    "#print(trax_cities, sep=',')\n",
    "len(trax_cities)"
   ]
  },
  {
   "cell_type": "code",
   "execution_count": 63,
   "metadata": {},
   "outputs": [
    {
     "data": {
      "image/png": "[encoded data removed]",
      "text/plain": [
       "<Figure size 432x288 with 1 Axes>"
      ]
     },
     "metadata": {
      "needs_background": "light"
     },
     "output_type": "display_data"
    }
   ],
   "source": [
    "def visualize_city(df, city_name, column1, column2):\n",
    "    unique_cities= df['City'].unique()\n",
    "    group_by_city= df.groupby('City')\n",
    "    try:\n",
    "        dfcity_selected= group_by_city.get_group(city_name)\n",
    "        dfcity_selected= dfcity_selected.groupby([column1,column2]).size()\n",
    "        dfcity_selected= dfcity_selected.unstack()\n",
    "        dfcity_selected.plot(kind='bar')\n",
    "    except Exception as e:\n",
    "        print(e,\" not found...\\nplease enter correct name...\")\n",
    "\n",
    "\n",
    "visualize_city(dftrax, 'Samundri', 'Delivery Time', 'Delivery Charges')"
   ]
  },
  {
   "cell_type": "code",
   "execution_count": 93,
   "metadata": {},
   "outputs": [
    {
     "data": {
      "image/png": "[encoded data removed]",
      "text/plain": [
       "<Figure size 432x288 with 1 Axes>"
      ]
     },
     "metadata": {
      "needs_background": "light"
     },
     "output_type": "display_data"
    }
   ],
   "source": [
    "def visualize_area(df, area_name, column1, column2):\n",
    "    unique_area= df['Area'].unique()\n",
    "    group_by_area= df.groupby('Area')\n",
    "    try:\n",
    "        dfarea_selected= group_by_area.get_group(area_name)\n",
    "        dfarea_selected= dfarea_selected.groupby([column1,column2]).size()\n",
    "        dfarea_selected= dfarea_selected.unstack()\n",
    "        dfarea_selected.plot(kind='bar')\n",
    "    except Exception as e:\n",
    "        print(e,\" not found...\\nplease enter correct area name...\")\n",
    "visualize_area(dftraxd, 'Village', 'Delivery Time', 'Delivery Charges')"
   ]
  },
  {
   "cell_type": "code",
   "execution_count": 118,
   "metadata": {},
   "outputs": [
    {
     "data": {
      "image/png": "[encoded data removed]",
      "text/plain": [
       "<Figure size 360x360 with 1 Axes>"
      ]
     },
     "metadata": {
      "needs_background": "light"
     },
     "output_type": "display_data"
    }
   ],
   "source": [
    "def visualize_province(df, province_name, column1, column2):\n",
    "    unique_province= df['Province'].unique()\n",
    "    group_by_province= df.groupby('Province')\n",
    "    try:\n",
    "        dfprovince_selected= group_by_province.get_group(province_name)\n",
    "        dfprovince_selected= dfprovince_selected.groupby([column1,column2]).size()\n",
    "        dfprovince_selected= dfprovince_selected.unstack()\n",
    "        dfprovince_selected.plot(kind='bar', figsize=(5,5))\n",
    "    except Exception as e:\n",
    "        print(e,\" not found...\\nplease enter correct province name...\")\n",
    "visualize_province(dftraxr, 'Balochistan', 'Delivery Time', 'Delivery Charges')"
   ]
  },
  {
   "cell_type": "code",
   "execution_count": null,
   "metadata": {},
   "outputs": [],
   "source": []
  }
 ],
 "metadata": {
  "kernelspec": {
   "display_name": "Python 3",
   "language": "python",
   "name": "python3"
  },
  "language_info": {
   "codemirror_mode": {
    "name": "ipython",
    "version": 3
   },
   "file_extension": ".py",
   "mimetype": "text/x-python",
   "name": "python",
   "nbconvert_exporter": "python",
   "pygments_lexer": "ipython3",
   "version": "3.7.3"
  }
 },
 "nbformat": 4,
 "nbformat_minor": 2
}
